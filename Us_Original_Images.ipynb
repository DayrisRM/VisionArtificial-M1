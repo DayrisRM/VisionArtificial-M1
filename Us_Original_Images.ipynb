{
  "nbformat": 4,
  "nbformat_minor": 0,
  "metadata": {
    "colab": {
      "name": "Us_Original_Images.ipynb",
      "provenance": [],
      "mount_file_id": "1wTt5g2TpniLgQxV36NnTVtPoSIV5XjpB",
      "authorship_tag": "ABX9TyOJwVlibyxB3ucUBi9UHfrq",
      "include_colab_link": true
    },
    "kernelspec": {
      "name": "python3",
      "display_name": "Python 3"
    },
    "language_info": {
      "name": "python"
    }
  },
  "cells": [
    {
      "cell_type": "markdown",
      "metadata": {
        "id": "view-in-github",
        "colab_type": "text"
      },
      "source": [
        "<a href=\"https://colab.research.google.com/github/DayrisRM/VisionArtificial-M1/blob/main/Us_Original_Images.ipynb\" target=\"_parent\"><img src=\"https://colab.research.google.com/assets/colab-badge.svg\" alt=\"Open In Colab\"/></a>"
      ]
    },
    {
      "cell_type": "markdown",
      "source": [
        "------- ***Step 1: Preparing dataset from US images*** ------"
      ],
      "metadata": {
        "id": "FysscKzvU9QD"
      }
    },
    {
      "cell_type": "code",
      "execution_count": 10,
      "metadata": {
        "id": "QBC6J9mYUnfm"
      },
      "outputs": [],
      "source": [
        "import cv2\n",
        "import numpy as np\n",
        "import os\n",
        "from PIL import Image"
      ]
    },
    {
      "cell_type": "code",
      "source": [
        "#obtener el width y height maximo de las imagenes a preparar\n",
        "def getMaxSize(folderUrl):\n",
        "  moreHeight = 0\n",
        "  moreWidht = 0\n",
        "  myListImages = os.listdir(folderUrl)\n",
        "  for cl in myListImages: \n",
        "    img = cv2.imread(folderUrl + cl)\n",
        "    old_image_height, old_image_width, channels = img.shape\n",
        "\n",
        "    if old_image_height > moreHeight:\n",
        "      moreHeight = old_image_height\n",
        "\n",
        "    if old_image_width > moreWidht:\n",
        "      moreWidht = old_image_width\n",
        "\n",
        "  return moreHeight, moreWidht"
      ],
      "metadata": {
        "id": "prOAzxBYVW9X"
      },
      "execution_count": 11,
      "outputs": []
    },
    {
      "cell_type": "code",
      "source": [
        "#añadir padding a la imagen original con las nuevas medidas\n",
        "def addPaddingToImage(imageName, new_height, new_width): \n",
        "  # read image  \n",
        "  img = cv2.imread('/content/drive/MyDrive/Colab Notebooks/Original/' + imageName)\n",
        "  old_image_height, old_image_width, channels = img.shape \n",
        "  color = (0,0,0)\n",
        "  result = np.full((new_height,new_width, channels), color, dtype=np.uint8)\n",
        "\n",
        "  # compute center offset\n",
        "  x_center = (new_width - old_image_width) // 2\n",
        "  y_center = (new_height - old_image_height) // 2\n",
        "\n",
        "  # copy img image into center of result image\n",
        "  result[y_center:y_center+old_image_height, \n",
        "  x_center:x_center+old_image_width] = img\n",
        "\n",
        "  print(imageName)\n",
        "  # save result\n",
        "  urlToSave = '/content/drive/MyDrive/Colab Notebooks/US_Original_Prepared/Padding/' + imageName  \n",
        "  cv2.imwrite(urlToSave, result)"
      ],
      "metadata": {
        "id": "Ldpn8QIBV-7R"
      },
      "execution_count": 12,
      "outputs": []
    },
    {
      "cell_type": "code",
      "source": [
        "\n",
        "#resize la imagen original con las nuevas medidas \n",
        "def resizeImage(imageName): \n",
        "  basewidth = 224\n",
        "  img = Image.open('/content/drive/MyDrive/Colab Notebooks/US_Original_Prepared/Padding/' + imageName )\n",
        "  wpercent = (basewidth / float(img.size[0]))\n",
        "  hsize = int((float(img.size[1]) * float(wpercent)))\n",
        "  img = img.resize((basewidth, hsize), Image.ANTIALIAS)\n",
        "  img.save('/content/drive/MyDrive/Colab Notebooks/US_Original_Prepared/ResizedImage/{}'.format(imageName))\n",
        "  "
      ],
      "metadata": {
        "id": "6ufKm_EUWfTo"
      },
      "execution_count": 16,
      "outputs": []
    },
    {
      "cell_type": "code",
      "source": [
        "def prepareUSImages():\n",
        "  new_height = 0\n",
        "  new_width = 0  \n",
        "\n",
        "  moreHeight, moreWidht = getMaxSize('/content/drive/MyDrive/Colab Notebooks/Original/')\n",
        "  print('moreHeight:{} moreWidht:{}'.format(moreHeight, moreWidht))\n",
        "\n",
        "  if moreHeight < 500 and moreWidht < 500:\n",
        "    new_height = 500\n",
        "    new_width = 500\n",
        "  else:\n",
        "    new_height = 800\n",
        "    new_width = 800\n",
        "  \n",
        "  myListImages = os.listdir('/content/drive/MyDrive/Colab Notebooks/Original/')\n",
        "  for cl in myListImages: \n",
        "    addPaddingToImage(cl, new_height, new_width)\n",
        "    resizeImage(cl)\n",
        "    "
      ],
      "metadata": {
        "id": "D1EQ-rI_W1qv"
      },
      "execution_count": 28,
      "outputs": []
    },
    {
      "cell_type": "code",
      "source": [
        "prepareUSImages()"
      ],
      "metadata": {
        "colab": {
          "base_uri": "https://localhost:8080/"
        },
        "id": "X-08ENXhXR0v",
        "outputId": "4c4b5ebc-7cd8-49f1-903b-12b9a337a7b2"
      },
      "execution_count": 29,
      "outputs": [
        {
          "output_type": "stream",
          "name": "stdout",
          "text": [
            "moreHeight:641 moreWidht:791\n",
            "000295.png\n",
            "000307.png\n",
            "000308.png\n",
            "000302.png\n",
            "000299.png\n",
            "000297.png\n",
            "000300.png\n",
            "000304.png\n",
            "000303.png\n",
            "000296.png\n",
            "000301.png\n",
            "000306.png\n",
            "000298.png\n",
            "000309.png\n",
            "000310.png\n",
            "000305.png\n",
            "000142.png\n",
            "000140.png\n",
            "000143.png\n",
            "000139.png\n",
            "000135.png\n",
            "000137.png\n",
            "000141.png\n",
            "000144.png\n",
            "000146.png\n",
            "000132.png\n",
            "000131.png\n",
            "000134.png\n",
            "000133.png\n",
            "000145.png\n",
            "000147.png\n",
            "000136.png\n",
            "000138.png\n",
            "000128.png\n",
            "000050.png\n",
            "000079.png\n",
            "000116.png\n",
            "000043.png\n",
            "000046.png\n",
            "000089.png\n",
            "000062.png\n",
            "000035.png\n",
            "000040.png\n",
            "000073.png\n",
            "000110.png\n",
            "000109.png\n",
            "000124.png\n",
            "000042.png\n",
            "000091.png\n",
            "000096.png\n",
            "000034.png\n",
            "000087.png\n",
            "000129.png\n",
            "000061.png\n",
            "000084.png\n",
            "000065.png\n",
            "000107.png\n",
            "000118.png\n",
            "000038.png\n",
            "000120.png\n",
            "000076.png\n",
            "000051.png\n",
            "000052.png\n",
            "000039.png\n",
            "000041.png\n",
            "000080.png\n",
            "000101.png\n",
            "000095.png\n",
            "000108.png\n",
            "000057.png\n",
            "000127.png\n",
            "000119.png\n",
            "000060.png\n",
            "000130.png\n",
            "000069.png\n",
            "000085.png\n",
            "000111.png\n",
            "000126.png\n",
            "000104.png\n",
            "000097.png\n",
            "000071.png\n",
            "000114.png\n",
            "000077.png\n",
            "000083.png\n",
            "000093.png\n",
            "000066.png\n",
            "000105.png\n",
            "000090.png\n",
            "000036.png\n",
            "000082.png\n",
            "000106.png\n",
            "000072.png\n",
            "000058.png\n",
            "000070.png\n",
            "000094.png\n",
            "000086.png\n",
            "000047.png\n",
            "000117.png\n",
            "000121.png\n",
            "000112.png\n",
            "000098.png\n",
            "000044.png\n",
            "000078.png\n",
            "000064.png\n",
            "000048.png\n",
            "000063.png\n",
            "000074.png\n",
            "000054.png\n",
            "000122.png\n",
            "000102.png\n",
            "000075.png\n",
            "000100.png\n",
            "000123.png\n",
            "000037.png\n",
            "000088.png\n",
            "000092.png\n",
            "000067.png\n",
            "000081.png\n",
            "000068.png\n",
            "000056.png\n",
            "000053.png\n",
            "000045.png\n",
            "000055.png\n",
            "000099.png\n",
            "000049.png\n",
            "000103.png\n",
            "000125.png\n",
            "000113.png\n",
            "000059.png\n",
            "000115.png\n",
            "000010.png\n",
            "000027.png\n",
            "000006.png\n",
            "000020.png\n",
            "000014.png\n",
            "000021.png\n",
            "000011.png\n",
            "000031.png\n",
            "000022.png\n",
            "000012.png\n",
            "000023.png\n",
            "000007.png\n",
            "000002.png\n",
            "000019.png\n",
            "000024.png\n",
            "000033.png\n",
            "000018.png\n",
            "000015.png\n",
            "000008.png\n",
            "000025.png\n",
            "000003.png\n",
            "000016.png\n",
            "000026.png\n",
            "000028.png\n",
            "000009.png\n",
            "000001.png\n",
            "000029.png\n",
            "000030.png\n",
            "000032.png\n",
            "000004.png\n",
            "000005.png\n",
            "000017.png\n",
            "000013.png\n"
          ]
        }
      ]
    }
  ]
}