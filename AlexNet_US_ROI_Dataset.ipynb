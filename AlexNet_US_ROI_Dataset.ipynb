{
  "nbformat": 4,
  "nbformat_minor": 0,
  "metadata": {
    "colab": {
      "name": "AlexNet_US_ROI_Dataset.ipynb",
      "provenance": [],
      "authorship_tag": "ABX9TyPJ/7biFd9/T+lZeTIJXka0",
      "include_colab_link": true
    },
    "kernelspec": {
      "name": "python3",
      "display_name": "Python 3"
    },
    "language_info": {
      "name": "python"
    },
    "accelerator": "GPU"
  },
  "cells": [
    {
      "cell_type": "markdown",
      "metadata": {
        "id": "view-in-github",
        "colab_type": "text"
      },
      "source": [
        "<a href=\"https://colab.research.google.com/github/DayrisRM/VisionArtificial-M1/blob/main/AlexNet_US_ROI_Dataset.ipynb\" target=\"_parent\"><img src=\"https://colab.research.google.com/assets/colab-badge.svg\" alt=\"Open In Colab\"/></a>"
      ]
    },
    {
      "cell_type": "code",
      "execution_count": 1,
      "metadata": {
        "colab": {
          "resources": {
            "http://localhost:8080/nbextensions/google.colab/files.js": {
              "data": "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",
              "ok": true,
              "headers": [
                [
                  "content-type",
                  "application/javascript"
                ]
              ],
              "status": 200,
              "status_text": ""
            }
          },
          "base_uri": "https://localhost:8080/",
          "height": 73
        },
        "id": "wEf6uT9pIIS7",
        "outputId": "4a5218fb-02ff-4bb5-c607-f909b8c76674"
      },
      "outputs": [
        {
          "output_type": "display_data",
          "data": {
            "text/plain": [
              "<IPython.core.display.HTML object>"
            ],
            "text/html": [
              "\n",
              "     <input type=\"file\" id=\"files-16470e4d-823f-4c42-8d37-69c0633efb77\" name=\"files[]\" multiple disabled\n",
              "        style=\"border:none\" />\n",
              "     <output id=\"result-16470e4d-823f-4c42-8d37-69c0633efb77\">\n",
              "      Upload widget is only available when the cell has been executed in the\n",
              "      current browser session. Please rerun this cell to enable.\n",
              "      </output>\n",
              "      <script src=\"/nbextensions/google.colab/files.js\"></script> "
            ]
          },
          "metadata": {}
        },
        {
          "output_type": "stream",
          "name": "stdout",
          "text": [
            "Saving US_ROI_dataset_final.zip to US_ROI_dataset_final.zip\n"
          ]
        }
      ],
      "source": [
        "from google.colab import files\n",
        "uploaded = files.upload()"
      ]
    },
    {
      "cell_type": "code",
      "source": [
        "import zipfile\n",
        "import io\n",
        "data = zipfile.ZipFile(io.BytesIO(uploaded['US_ROI_dataset_final.zip']), 'r')\n",
        "data.extractall()"
      ],
      "metadata": {
        "id": "8YT9L56QIQP0"
      },
      "execution_count": 2,
      "outputs": []
    },
    {
      "cell_type": "code",
      "source": [
        "import os"
      ],
      "metadata": {
        "id": "SDF4ggdT1LkV"
      },
      "execution_count": 3,
      "outputs": []
    },
    {
      "cell_type": "code",
      "source": [
        "train_path = '/content/US_ROI_dataset_final/train/' \n",
        "test_path = '/content/US_ROI_dataset_final/test/'"
      ],
      "metadata": {
        "id": "zfcUZiCl0rTF"
      },
      "execution_count": 4,
      "outputs": []
    },
    {
      "cell_type": "code",
      "source": [
        "print('The training set consists of ', len(os.listdir(train_path + 'Benign/')), ' Benign images and '\n",
        ", len(os.listdir(train_path + 'Malignant/')), ' Malignant images.' )"
      ],
      "metadata": {
        "colab": {
          "base_uri": "https://localhost:8080/"
        },
        "id": "ENFNnlnW0q-H",
        "outputId": "fc03ce90-8605-4da1-a7f3-0be141f8e3a0"
      },
      "execution_count": 5,
      "outputs": [
        {
          "output_type": "stream",
          "name": "stdout",
          "text": [
            "The training set consists of  68  Benign images and  30  Malignant images.\n"
          ]
        }
      ]
    },
    {
      "cell_type": "code",
      "source": [
        "print('The test set consists of ', len(os.listdir(test_path + 'Benign/')), ' Benign images and '\n",
        ", len(os.listdir(test_path + 'Malignant/')), ' Malignant images.' )"
      ],
      "metadata": {
        "colab": {
          "base_uri": "https://localhost:8080/"
        },
        "id": "h8aWngZr1lcr",
        "outputId": "549c80d3-ff11-4904-f163-29d50ef2d86f"
      },
      "execution_count": 6,
      "outputs": [
        {
          "output_type": "stream",
          "name": "stdout",
          "text": [
            "The test set consists of  26  Benign images and  14  Malignant images.\n"
          ]
        }
      ]
    },
    {
      "cell_type": "code",
      "source": [
        "import cv2\n",
        "from PIL import Image\n",
        "import numpy as np"
      ],
      "metadata": {
        "id": "7wyQG8yL1y5S"
      },
      "execution_count": 7,
      "outputs": []
    },
    {
      "cell_type": "code",
      "source": [
        "cates = ['Benign', 'Malignant']\n",
        "def load_images_and_labels(data_path, cates): \n",
        "  X = []\n",
        "  y = []\n",
        "  i = 0\n",
        "  for index, cate in enumerate(cates): \n",
        "    for img_name in os.listdir(data_path + cate + '/'):\n",
        "      i = i +1\n",
        "      img = cv2.imread(data_path + cate + '/' + img_name)\n",
        "      img_array = Image.fromarray(img, 'RGB')\n",
        "      # resize image to 227x227 which is the required input size of the Alexnet model\n",
        "      img_rs = img_array.resize((227,227))\n",
        "      # convert the image to array\n",
        "      img_rs = np.array(img_rs)\n",
        "      X.append(img_rs)\n",
        "      y.append(index)\n",
        "  return X, y"
      ],
      "metadata": {
        "id": "Zlbx0ehj10O6"
      },
      "execution_count": 8,
      "outputs": []
    },
    {
      "cell_type": "code",
      "source": [
        "#Load the training data\n",
        "X_train, y_train = load_images_and_labels(train_path, cates)"
      ],
      "metadata": {
        "id": "_29tpZSM1_HL"
      },
      "execution_count": 9,
      "outputs": []
    },
    {
      "cell_type": "code",
      "source": [
        "#Load the test data\n",
        "X_test, y_test = load_images_and_labels(test_path, cates)"
      ],
      "metadata": {
        "id": "xpCznSH82Pe5"
      },
      "execution_count": 10,
      "outputs": []
    },
    {
      "cell_type": "code",
      "source": [
        "print('Training size: ', len(X_train), 'Testing size: ', len(X_test))"
      ],
      "metadata": {
        "colab": {
          "base_uri": "https://localhost:8080/"
        },
        "id": "NPvwsxeu2b8J",
        "outputId": "e32e6ab3-be99-4b9e-9f8e-7a04ab9c865d"
      },
      "execution_count": 11,
      "outputs": [
        {
          "output_type": "stream",
          "name": "stdout",
          "text": [
            "Training size:  98 Testing size:  40\n"
          ]
        }
      ]
    },
    {
      "cell_type": "code",
      "source": [
        "#Save X_train, y_train, X_test, y_test\n",
        "data_dict = {'X_train' : X_train, \n",
        "             'y_train': y_train, \n",
        "             'X_test': X_test, \n",
        "             'y_test': y_test}\n",
        "np.save('data_dict.npy', data_dict)"
      ],
      "metadata": {
        "id": "RE5wOjUJ2gBx"
      },
      "execution_count": 12,
      "outputs": []
    },
    {
      "cell_type": "code",
      "source": [
        "#Load X_train, y_train, X_test, y_test\n",
        "data_dict_ = np.load('data_dict.npy', allow_pickle = 'True').item()\n",
        "X_train = data_dict_['X_train']\n",
        "y_train = data_dict_['y_train']\n",
        "X_test = data_dict_['X_test']\n",
        "y_test = data_dict_['y_test']"
      ],
      "metadata": {
        "id": "gGwr0ZZJ2lXh"
      },
      "execution_count": 13,
      "outputs": []
    },
    {
      "cell_type": "code",
      "source": [
        "#Display randomly some images of the training set:\n",
        "\n",
        "import matplotlib.pyplot as plt\n",
        "import random\n",
        "plt.figure(figsize = (12,7))\n",
        "cate = ['Benign', 'Malignant']\n",
        "for i in range(8):\n",
        "  ind = random.randint(0, len(X_train))\n",
        "  plt.subplot(440 + 1 + i)\n",
        "  plt.imshow(X_train[ind])\n",
        "  plt.title(cate[y_train[ind]])"
      ],
      "metadata": {
        "colab": {
          "base_uri": "https://localhost:8080/",
          "height": 246
        },
        "id": "CPtvUqmy2u4p",
        "outputId": "cd663df4-8386-4ccf-efea-2516923ee315"
      },
      "execution_count": 14,
      "outputs": [
        {
          "output_type": "display_data",
          "data": {
            "text/plain": [
              "<Figure size 864x504 with 8 Axes>"
            ],
            "image/png": "[encoded data removed]"
          },
          "metadata": {
            "needs_background": "light"
          }
        }
      ]
    },
    {
      "cell_type": "code",
      "source": [
        "from tensorflow.keras.utils import to_categorical\n",
        "def preprocess_data(X, y):  \n",
        "  # convert X from list to array\n",
        "  X = np.array(X)  \n",
        "  # convert integer values of X into floats\n",
        "  X = X.astype(np.float32)\n",
        "  # normalization \n",
        "  X = X/255.0  \n",
        "  # one-hot encoding the labels \n",
        "  y = to_categorical(np.array(y))  \n",
        "  return X, y"
      ],
      "metadata": {
        "id": "h8bQ7MTx2uuS"
      },
      "execution_count": 15,
      "outputs": []
    },
    {
      "cell_type": "code",
      "source": [
        "(X_train, y_train) = preprocess_data(X_train, y_train)\n",
        "(X_test, y_test) = preprocess_data(X_test, y_test)"
      ],
      "metadata": {
        "id": "FZr6iHRA32J-"
      },
      "execution_count": 16,
      "outputs": []
    },
    {
      "cell_type": "code",
      "source": [
        "#Visualize some images of the training set after preprocessing:\n",
        "plt.figure(figsize = (12,7))\n",
        "for i in range(8):\n",
        "  ind = random.randint(0, len(X_train))\n",
        "  plt.subplot(240 + 1 + i)\n",
        "  plt.imshow(X_train[ind])\n",
        "  plt.title(cate[np.argmax(y_train[ind])])"
      ],
      "metadata": {
        "colab": {
          "base_uri": "https://localhost:8080/",
          "height": 417
        },
        "id": "ODoGXgO332BO",
        "outputId": "8578f4e5-e0b6-4df0-ea09-c2462f80f037"
      },
      "execution_count": 17,
      "outputs": [
        {
          "output_type": "display_data",
          "data": {
            "text/plain": [
              "<Figure size 864x504 with 8 Axes>"
            ],
            "image/png": "[encoded data removed]"
          },
          "metadata": {
            "needs_background": "light"
          }
        }
      ]
    },
    {
      "cell_type": "code",
      "source": [
        "from keras.models import Sequential\n",
        "from keras.layers import Conv2D, MaxPooling2D, Dense, Flatten, Dropout\n",
        "# metric\n",
        "from keras.metrics import binary_crossentropy\n",
        "# optimization method (Stochastic Gradient Descent (SGD))\n",
        "from tensorflow.keras.optimizers import SGD"
      ],
      "metadata": {
        "id": "5vaq37IQ4B6g"
      },
      "execution_count": 18,
      "outputs": []
    },
    {
      "cell_type": "code",
      "source": [
        "def Alexnet():\n",
        "  # Initialize the model\n",
        "  model = Sequential()\n",
        "\n",
        "  # layer 1: convolutional layer + max-pooling layer\n",
        "  model.add(Conv2D(filters = 96, kernel_size = (11,11), strides= 4, padding = 'valid'\n",
        "  , activation='relu', input_shape = (227,227,3)))\n",
        "  model.add(MaxPooling2D(pool_size = (3,3), strides = 2))\n",
        "\n",
        "  # layer 2: convolutional layer + max-pooling layer \n",
        "  model.add(Conv2D(filters = 256, kernel_size = (5,5), padding = 'same', activation = 'relu'))\n",
        "  model.add(MaxPooling2D(pool_size = (3,3), strides = 2))\n",
        "\n",
        "  # layers 3-5: three convolutional layers + 1 max-pooling layer\n",
        "  model.add(Conv2D(filters = 384, kernel_size = (3,3), padding = 'same', activation = 'relu'))\n",
        "  model.add(Conv2D(filters = 384, kernel_size = (3,3), padding = 'same', activation = 'relu'))\n",
        "  model.add(Conv2D(filters = 256, kernel_size = (3,3), padding = 'same', activation = 'relu'))\n",
        "  model.add(MaxPooling2D(pool_size = (3,3), strides = 2))\n",
        "\n",
        "  # layers 6 - 8: two fully connected hidden layers and one fully connected output layer\n",
        "  model.add(Flatten())\n",
        "  model.add(Dense(4096, activation = 'relu'))\n",
        "  model.add(Dropout(0.5))\n",
        "  model.add(Dense(4096, activation = 'relu'))\n",
        "  model.add(Dropout(0.5))\n",
        "  model.add(Dense(2, activation = 'softmax'))\n",
        "\n",
        "  # compile the model with a loss funciton, a metric and and optimizqation method\n",
        "  opt = SGD(lr = 0.1)\n",
        "  model.compile(loss = binary_crossentropy,\n",
        "                optimizer = opt,\n",
        "                metrics = ['accuracy'])\n",
        "\n",
        "  return model"
      ],
      "metadata": {
        "id": "nK0zbpn24Old"
      },
      "execution_count": 19,
      "outputs": []
    },
    {
      "cell_type": "code",
      "source": [
        "Alexnet_model = Alexnet()\n",
        "Alexnet_model.summary()"
      ],
      "metadata": {
        "colab": {
          "base_uri": "https://localhost:8080/"
        },
        "id": "DPErcVKm4S-l",
        "outputId": "82ec3539-6d52-43b4-cd86-d0b871e752ce"
      },
      "execution_count": 20,
      "outputs": [
        {
          "output_type": "stream",
          "name": "stdout",
          "text": [
            "Model: \"sequential\"\n",
            "_________________________________________________________________\n",
            " Layer (type)                Output Shape              Param #   \n",
            "=================================================================\n",
            " conv2d (Conv2D)             (None, 55, 55, 96)        34944     \n",
            "                                                                 \n",
            " max_pooling2d (MaxPooling2D  (None, 27, 27, 96)       0         \n",
            " )                                                               \n",
            "                                                                 \n",
            " conv2d_1 (Conv2D)           (None, 27, 27, 256)       614656    \n",
            "                                                                 \n",
            " max_pooling2d_1 (MaxPooling  (None, 13, 13, 256)      0         \n",
            " 2D)                                                             \n",
            "                                                                 \n",
            " conv2d_2 (Conv2D)           (None, 13, 13, 384)       885120    \n",
            "                                                                 \n",
            " conv2d_3 (Conv2D)           (None, 13, 13, 384)       1327488   \n",
            "                                                                 \n",
            " conv2d_4 (Conv2D)           (None, 13, 13, 256)       884992    \n",
            "                                                                 \n",
            " max_pooling2d_2 (MaxPooling  (None, 6, 6, 256)        0         \n",
            " 2D)                                                             \n",
            "                                                                 \n",
            " flatten (Flatten)           (None, 9216)              0         \n",
            "                                                                 \n",
            " dense (Dense)               (None, 4096)              37752832  \n",
            "                                                                 \n",
            " dropout (Dropout)           (None, 4096)              0         \n",
            "                                                                 \n",
            " dense_1 (Dense)             (None, 4096)              16781312  \n",
            "                                                                 \n",
            " dropout_1 (Dropout)         (None, 4096)              0         \n",
            "                                                                 \n",
            " dense_2 (Dense)             (None, 2)                 8194      \n",
            "                                                                 \n",
            "=================================================================\n",
            "Total params: 58,289,538\n",
            "Trainable params: 58,289,538\n",
            "Non-trainable params: 0\n",
            "_________________________________________________________________\n"
          ]
        },
        {
          "output_type": "stream",
          "name": "stderr",
          "text": [
            "/usr/local/lib/python3.7/dist-packages/keras/optimizer_v2/gradient_descent.py:102: UserWarning: The `lr` argument is deprecated, use `learning_rate` instead.\n",
            "  super(SGD, self).__init__(name, **kwargs)\n"
          ]
        }
      ]
    },
    {
      "cell_type": "code",
      "source": [
        "from keras.preprocessing.image import ImageDataGenerator\n",
        "from keras.callbacks import ModelCheckpoint"
      ],
      "metadata": {
        "id": "gllXtB524Br3"
      },
      "execution_count": 23,
      "outputs": []
    },
    {
      "cell_type": "code",
      "source": [
        "def train_model(model, X_train, y_train, X_test, y_test, epochs, batch_size):\n",
        "  # Data generator\n",
        "  datagen = ImageDataGenerator(rotation_range = 5, width_shift_range = 0.1, \n",
        "                               height_shift_range = 0.1, horizontal_flip = True)\n",
        "  # iteration on the training set\n",
        "  it_train = datagen.flow(X_train, y_train, batch_size = batch_size)\n",
        " \n",
        "  # Fitting the model  \n",
        "  history = model.fit(it_train, steps_per_epoch=len(it_train),\n",
        "\t\t  validation_data = (X_test, y_test), epochs=100, verbose=1)\n",
        "  \n",
        "  # Evaluating the model\n",
        "  _, acc = model.evaluate(X_test, y_test, verbose = 1)\n",
        "  print('%.3f' % (acc * 100.0))\n",
        "  \n",
        "  return history, acc"
      ],
      "metadata": {
        "id": "y1zITKY34Y29"
      },
      "execution_count": 24,
      "outputs": []
    },
    {
      "cell_type": "code",
      "source": [
        "train_history, acc = train_model(Alexnet_model, X_train, y_train, X_test, y_test, epochs = 100, batch_size = 128)"
      ],
      "metadata": {
        "colab": {
          "base_uri": "https://localhost:8080/"
        },
        "id": "v-ZsccUJ4iSA",
        "outputId": "6bb03611-64af-4ac8-f528-95dbec8a979b"
      },
      "execution_count": 25,
      "outputs": [
        {
          "output_type": "stream",
          "name": "stdout",
          "text": [
            "Epoch 1/100\n",
            "1/1 [==============================] - 16s 16s/step - loss: 0.6919 - accuracy: 0.6531 - val_loss: 0.6877 - val_accuracy: 0.6500\n",
            "Epoch 2/100\n",
            "1/1 [==============================] - 1s 1s/step - loss: 0.6863 - accuracy: 0.6837 - val_loss: 0.6831 - val_accuracy: 0.6500\n",
            "Epoch 3/100\n",
            "1/1 [==============================] - 1s 1s/step - loss: 0.6814 - accuracy: 0.6939 - val_loss: 0.6788 - val_accuracy: 0.6500\n",
            "Epoch 4/100\n",
            "1/1 [==============================] - 1s 1s/step - loss: 0.6763 - accuracy: 0.6939 - val_loss: 0.6747 - val_accuracy: 0.6500\n",
            "Epoch 5/100\n",
            "1/1 [==============================] - 1s 1s/step - loss: 0.6696 - accuracy: 0.6939 - val_loss: 0.6705 - val_accuracy: 0.6500\n",
            "Epoch 6/100\n",
            "1/1 [==============================] - 1s 1s/step - loss: 0.6646 - accuracy: 0.6939 - val_loss: 0.6664 - val_accuracy: 0.6500\n",
            "Epoch 7/100\n",
            "1/1 [==============================] - 1s 1s/step - loss: 0.6610 - accuracy: 0.6939 - val_loss: 0.6624 - val_accuracy: 0.6500\n",
            "Epoch 8/100\n",
            "1/1 [==============================] - 1s 1s/step - loss: 0.6574 - accuracy: 0.6939 - val_loss: 0.6588 - val_accuracy: 0.6500\n",
            "Epoch 9/100\n",
            "1/1 [==============================] - 1s 1s/step - loss: 0.6499 - accuracy: 0.6939 - val_loss: 0.6553 - val_accuracy: 0.6500\n",
            "Epoch 10/100\n",
            "1/1 [==============================] - 1s 1s/step - loss: 0.6427 - accuracy: 0.6939 - val_loss: 0.6520 - val_accuracy: 0.6500\n",
            "Epoch 11/100\n",
            "1/1 [==============================] - 1s 1s/step - loss: 0.6387 - accuracy: 0.6939 - val_loss: 0.6493 - val_accuracy: 0.6500\n",
            "Epoch 12/100\n",
            "1/1 [==============================] - 1s 1s/step - loss: 0.6362 - accuracy: 0.6939 - val_loss: 0.6473 - val_accuracy: 0.6500\n",
            "Epoch 13/100\n",
            "1/1 [==============================] - 1s 1s/step - loss: 0.6314 - accuracy: 0.6939 - val_loss: 0.6459 - val_accuracy: 0.6500\n",
            "Epoch 14/100\n",
            "1/1 [==============================] - 1s 1s/step - loss: 0.6267 - accuracy: 0.6939 - val_loss: 0.6450 - val_accuracy: 0.6500\n",
            "Epoch 15/100\n",
            "1/1 [==============================] - 1s 1s/step - loss: 0.6313 - accuracy: 0.6939 - val_loss: 0.6442 - val_accuracy: 0.6500\n",
            "Epoch 16/100\n",
            "1/1 [==============================] - 1s 1s/step - loss: 0.6242 - accuracy: 0.6939 - val_loss: 0.6435 - val_accuracy: 0.6500\n",
            "Epoch 17/100\n",
            "1/1 [==============================] - 1s 1s/step - loss: 0.6212 - accuracy: 0.6939 - val_loss: 0.6431 - val_accuracy: 0.6500\n",
            "Epoch 18/100\n",
            "1/1 [==============================] - 1s 1s/step - loss: 0.6227 - accuracy: 0.6939 - val_loss: 0.6422 - val_accuracy: 0.6500\n",
            "Epoch 19/100\n",
            "1/1 [==============================] - 1s 1s/step - loss: 0.6152 - accuracy: 0.6939 - val_loss: 0.6420 - val_accuracy: 0.6500\n",
            "Epoch 20/100\n",
            "1/1 [==============================] - 1s 1s/step - loss: 0.6117 - accuracy: 0.6939 - val_loss: 0.6414 - val_accuracy: 0.6500\n",
            "Epoch 21/100\n",
            "1/1 [==============================] - 1s 1s/step - loss: 0.6182 - accuracy: 0.6939 - val_loss: 0.6402 - val_accuracy: 0.6500\n",
            "Epoch 22/100\n",
            "1/1 [==============================] - 1s 1s/step - loss: 0.6135 - accuracy: 0.6939 - val_loss: 0.6390 - val_accuracy: 0.6500\n",
            "Epoch 23/100\n",
            "1/1 [==============================] - 1s 1s/step - loss: 0.6165 - accuracy: 0.6939 - val_loss: 0.6381 - val_accuracy: 0.6500\n",
            "Epoch 24/100\n",
            "1/1 [==============================] - 1s 1s/step - loss: 0.6163 - accuracy: 0.6939 - val_loss: 0.6370 - val_accuracy: 0.6500\n",
            "Epoch 25/100\n",
            "1/1 [==============================] - 1s 1s/step - loss: 0.6132 - accuracy: 0.6939 - val_loss: 0.6362 - val_accuracy: 0.6500\n",
            "Epoch 26/100\n",
            "1/1 [==============================] - 1s 1s/step - loss: 0.6074 - accuracy: 0.6939 - val_loss: 0.6356 - val_accuracy: 0.6500\n",
            "Epoch 27/100\n",
            "1/1 [==============================] - 1s 1s/step - loss: 0.6065 - accuracy: 0.6939 - val_loss: 0.6346 - val_accuracy: 0.6500\n",
            "Epoch 28/100\n",
            "1/1 [==============================] - 1s 1s/step - loss: 0.6007 - accuracy: 0.6939 - val_loss: 0.6341 - val_accuracy: 0.6500\n",
            "Epoch 29/100\n",
            "1/1 [==============================] - 1s 1s/step - loss: 0.6084 - accuracy: 0.6939 - val_loss: 0.6323 - val_accuracy: 0.6500\n",
            "Epoch 30/100\n",
            "1/1 [==============================] - 1s 1s/step - loss: 0.5993 - accuracy: 0.6939 - val_loss: 0.6317 - val_accuracy: 0.6500\n",
            "Epoch 31/100\n",
            "1/1 [==============================] - 1s 1s/step - loss: 0.6050 - accuracy: 0.6939 - val_loss: 0.6299 - val_accuracy: 0.6500\n",
            "Epoch 32/100\n",
            "1/1 [==============================] - 1s 1s/step - loss: 0.6014 - accuracy: 0.6939 - val_loss: 0.6289 - val_accuracy: 0.6500\n",
            "Epoch 33/100\n",
            "1/1 [==============================] - 1s 1s/step - loss: 0.6037 - accuracy: 0.6939 - val_loss: 0.6275 - val_accuracy: 0.6500\n",
            "Epoch 34/100\n",
            "1/1 [==============================] - 1s 1s/step - loss: 0.5970 - accuracy: 0.6939 - val_loss: 0.6267 - val_accuracy: 0.6500\n",
            "Epoch 35/100\n",
            "1/1 [==============================] - 1s 1s/step - loss: 0.5953 - accuracy: 0.6939 - val_loss: 0.6251 - val_accuracy: 0.6500\n",
            "Epoch 36/100\n",
            "1/1 [==============================] - 1s 1s/step - loss: 0.5953 - accuracy: 0.6939 - val_loss: 0.6230 - val_accuracy: 0.6500\n",
            "Epoch 37/100\n",
            "1/1 [==============================] - 1s 1s/step - loss: 0.5994 - accuracy: 0.6939 - val_loss: 0.6212 - val_accuracy: 0.6500\n",
            "Epoch 38/100\n",
            "1/1 [==============================] - 1s 1s/step - loss: 0.5939 - accuracy: 0.6939 - val_loss: 0.6189 - val_accuracy: 0.6500\n",
            "Epoch 39/100\n",
            "1/1 [==============================] - 1s 1s/step - loss: 0.5945 - accuracy: 0.6939 - val_loss: 0.6173 - val_accuracy: 0.6500\n",
            "Epoch 40/100\n",
            "1/1 [==============================] - 1s 1s/step - loss: 0.5966 - accuracy: 0.6939 - val_loss: 0.6145 - val_accuracy: 0.6500\n",
            "Epoch 41/100\n",
            "1/1 [==============================] - 1s 1s/step - loss: 0.5886 - accuracy: 0.6939 - val_loss: 0.6125 - val_accuracy: 0.6500\n",
            "Epoch 42/100\n",
            "1/1 [==============================] - 1s 1s/step - loss: 0.5927 - accuracy: 0.6939 - val_loss: 0.6090 - val_accuracy: 0.6500\n",
            "Epoch 43/100\n",
            "1/1 [==============================] - 1s 1s/step - loss: 0.5899 - accuracy: 0.6939 - val_loss: 0.6073 - val_accuracy: 0.6500\n",
            "Epoch 44/100\n",
            "1/1 [==============================] - 1s 1s/step - loss: 0.5827 - accuracy: 0.6939 - val_loss: 0.6058 - val_accuracy: 0.6500\n",
            "Epoch 45/100\n",
            "1/1 [==============================] - 1s 1s/step - loss: 0.5781 - accuracy: 0.6939 - val_loss: 0.6028 - val_accuracy: 0.6500\n",
            "Epoch 46/100\n",
            "1/1 [==============================] - 1s 1s/step - loss: 0.5761 - accuracy: 0.6939 - val_loss: 0.5963 - val_accuracy: 0.6500\n",
            "Epoch 47/100\n",
            "1/1 [==============================] - 1s 1s/step - loss: 0.5726 - accuracy: 0.6939 - val_loss: 0.5944 - val_accuracy: 0.6500\n",
            "Epoch 48/100\n",
            "1/1 [==============================] - 1s 1s/step - loss: 0.5744 - accuracy: 0.6939 - val_loss: 0.5892 - val_accuracy: 0.6500\n",
            "Epoch 49/100\n",
            "1/1 [==============================] - 1s 1s/step - loss: 0.5672 - accuracy: 0.6939 - val_loss: 0.5834 - val_accuracy: 0.6500\n",
            "Epoch 50/100\n",
            "1/1 [==============================] - 1s 1s/step - loss: 0.5631 - accuracy: 0.6939 - val_loss: 0.5772 - val_accuracy: 0.6500\n",
            "Epoch 51/100\n",
            "1/1 [==============================] - 1s 1s/step - loss: 0.5574 - accuracy: 0.6939 - val_loss: 0.5678 - val_accuracy: 0.6500\n",
            "Epoch 52/100\n",
            "1/1 [==============================] - 1s 1s/step - loss: 0.5543 - accuracy: 0.6939 - val_loss: 0.5680 - val_accuracy: 0.6500\n",
            "Epoch 53/100\n",
            "1/1 [==============================] - 1s 1s/step - loss: 0.5651 - accuracy: 0.6939 - val_loss: 0.5524 - val_accuracy: 0.6750\n",
            "Epoch 54/100\n",
            "1/1 [==============================] - 1s 1s/step - loss: 0.5541 - accuracy: 0.7041 - val_loss: 0.5974 - val_accuracy: 0.6500\n",
            "Epoch 55/100\n",
            "1/1 [==============================] - 1s 1s/step - loss: 0.5627 - accuracy: 0.7041 - val_loss: 0.6116 - val_accuracy: 0.7000\n",
            "Epoch 56/100\n",
            "1/1 [==============================] - 1s 1s/step - loss: 0.6159 - accuracy: 0.7245 - val_loss: 0.5762 - val_accuracy: 0.6500\n",
            "Epoch 57/100\n",
            "1/1 [==============================] - 1s 1s/step - loss: 0.5533 - accuracy: 0.6939 - val_loss: 0.5645 - val_accuracy: 0.7500\n",
            "Epoch 58/100\n",
            "1/1 [==============================] - 1s 1s/step - loss: 0.5705 - accuracy: 0.7449 - val_loss: 0.6052 - val_accuracy: 0.6500\n",
            "Epoch 59/100\n",
            "1/1 [==============================] - 1s 1s/step - loss: 0.5572 - accuracy: 0.7143 - val_loss: 0.6017 - val_accuracy: 0.7000\n",
            "Epoch 60/100\n",
            "1/1 [==============================] - 1s 1s/step - loss: 0.6145 - accuracy: 0.7245 - val_loss: 0.5556 - val_accuracy: 0.6750\n",
            "Epoch 61/100\n",
            "1/1 [==============================] - 1s 1s/step - loss: 0.5302 - accuracy: 0.7143 - val_loss: 0.5305 - val_accuracy: 0.6750\n",
            "Epoch 62/100\n",
            "1/1 [==============================] - 1s 1s/step - loss: 0.5332 - accuracy: 0.7245 - val_loss: 0.5338 - val_accuracy: 0.6750\n",
            "Epoch 63/100\n",
            "1/1 [==============================] - 1s 1s/step - loss: 0.5085 - accuracy: 0.7347 - val_loss: 0.5027 - val_accuracy: 0.7250\n",
            "Epoch 64/100\n",
            "1/1 [==============================] - 1s 1s/step - loss: 0.5176 - accuracy: 0.7449 - val_loss: 0.5837 - val_accuracy: 0.6750\n",
            "Epoch 65/100\n",
            "1/1 [==============================] - 1s 1s/step - loss: 0.5524 - accuracy: 0.7143 - val_loss: 0.6907 - val_accuracy: 0.6500\n",
            "Epoch 66/100\n",
            "1/1 [==============================] - 1s 1s/step - loss: 0.7002 - accuracy: 0.4796 - val_loss: 0.5772 - val_accuracy: 0.6750\n",
            "Epoch 67/100\n",
            "1/1 [==============================] - 1s 1s/step - loss: 0.5824 - accuracy: 0.7347 - val_loss: 0.5371 - val_accuracy: 0.6750\n",
            "Epoch 68/100\n",
            "1/1 [==============================] - 1s 1s/step - loss: 0.5135 - accuracy: 0.7245 - val_loss: 0.5120 - val_accuracy: 0.6750\n",
            "Epoch 69/100\n",
            "1/1 [==============================] - 1s 1s/step - loss: 0.5260 - accuracy: 0.7551 - val_loss: 0.5059 - val_accuracy: 0.6750\n",
            "Epoch 70/100\n",
            "1/1 [==============================] - 1s 1s/step - loss: 0.5012 - accuracy: 0.7449 - val_loss: 0.4820 - val_accuracy: 0.7250\n",
            "Epoch 71/100\n",
            "1/1 [==============================] - 1s 1s/step - loss: 0.4886 - accuracy: 0.7551 - val_loss: 0.5161 - val_accuracy: 0.6750\n",
            "Epoch 72/100\n",
            "1/1 [==============================] - 1s 1s/step - loss: 0.4995 - accuracy: 0.7551 - val_loss: 0.6079 - val_accuracy: 0.7000\n",
            "Epoch 73/100\n",
            "1/1 [==============================] - 1s 1s/step - loss: 0.6270 - accuracy: 0.7551 - val_loss: 0.6226 - val_accuracy: 0.6750\n",
            "Epoch 74/100\n",
            "1/1 [==============================] - 1s 1s/step - loss: 0.5573 - accuracy: 0.7245 - val_loss: 0.6569 - val_accuracy: 0.6500\n",
            "Epoch 75/100\n",
            "1/1 [==============================] - 1s 1s/step - loss: 0.6632 - accuracy: 0.7041 - val_loss: 0.5968 - val_accuracy: 0.7250\n",
            "Epoch 76/100\n",
            "1/1 [==============================] - 1s 1s/step - loss: 0.6021 - accuracy: 0.7245 - val_loss: 0.5364 - val_accuracy: 0.6750\n",
            "Epoch 77/100\n",
            "1/1 [==============================] - 1s 1s/step - loss: 0.5445 - accuracy: 0.7245 - val_loss: 0.5263 - val_accuracy: 0.6750\n",
            "Epoch 78/100\n",
            "1/1 [==============================] - 2s 2s/step - loss: 0.5137 - accuracy: 0.7449 - val_loss: 0.4943 - val_accuracy: 0.7000\n",
            "Epoch 79/100\n",
            "1/1 [==============================] - 1s 1s/step - loss: 0.5000 - accuracy: 0.7551 - val_loss: 0.4972 - val_accuracy: 0.7000\n",
            "Epoch 80/100\n",
            "1/1 [==============================] - 1s 1s/step - loss: 0.4888 - accuracy: 0.7551 - val_loss: 0.4726 - val_accuracy: 0.7750\n",
            "Epoch 81/100\n",
            "1/1 [==============================] - 1s 1s/step - loss: 0.5082 - accuracy: 0.7653 - val_loss: 0.6519 - val_accuracy: 0.6750\n",
            "Epoch 82/100\n",
            "1/1 [==============================] - 1s 1s/step - loss: 0.5719 - accuracy: 0.7449 - val_loss: 0.6943 - val_accuracy: 0.5750\n",
            "Epoch 83/100\n",
            "1/1 [==============================] - 1s 1s/step - loss: 0.6981 - accuracy: 0.4796 - val_loss: 0.6036 - val_accuracy: 0.7500\n",
            "Epoch 84/100\n",
            "1/1 [==============================] - 1s 1s/step - loss: 0.6106 - accuracy: 0.7347 - val_loss: 0.5504 - val_accuracy: 0.6750\n",
            "Epoch 85/100\n",
            "1/1 [==============================] - 1s 1s/step - loss: 0.5665 - accuracy: 0.7347 - val_loss: 0.5165 - val_accuracy: 0.6750\n",
            "Epoch 86/100\n",
            "1/1 [==============================] - 1s 1s/step - loss: 0.5127 - accuracy: 0.7551 - val_loss: 0.5049 - val_accuracy: 0.7000\n",
            "Epoch 87/100\n",
            "1/1 [==============================] - 1s 1s/step - loss: 0.5057 - accuracy: 0.7347 - val_loss: 0.4716 - val_accuracy: 0.7250\n",
            "Epoch 88/100\n",
            "1/1 [==============================] - 1s 1s/step - loss: 0.4912 - accuracy: 0.7653 - val_loss: 0.4991 - val_accuracy: 0.7250\n",
            "Epoch 89/100\n",
            "1/1 [==============================] - 1s 1s/step - loss: 0.4890 - accuracy: 0.7653 - val_loss: 0.4919 - val_accuracy: 0.8000\n",
            "Epoch 90/100\n",
            "1/1 [==============================] - 1s 1s/step - loss: 0.5363 - accuracy: 0.8163 - val_loss: 0.5789 - val_accuracy: 0.7000\n",
            "Epoch 91/100\n",
            "1/1 [==============================] - 1s 1s/step - loss: 0.5165 - accuracy: 0.7449 - val_loss: 0.5943 - val_accuracy: 0.7250\n",
            "Epoch 92/100\n",
            "1/1 [==============================] - 1s 1s/step - loss: 0.6300 - accuracy: 0.6939 - val_loss: 0.4852 - val_accuracy: 0.7000\n",
            "Epoch 93/100\n",
            "1/1 [==============================] - 1s 1s/step - loss: 0.4733 - accuracy: 0.7449 - val_loss: 0.4666 - val_accuracy: 0.7250\n",
            "Epoch 94/100\n",
            "1/1 [==============================] - 1s 1s/step - loss: 0.4810 - accuracy: 0.7653 - val_loss: 0.4447 - val_accuracy: 0.7250\n",
            "Epoch 95/100\n",
            "1/1 [==============================] - 1s 1s/step - loss: 0.4487 - accuracy: 0.7755 - val_loss: 0.4755 - val_accuracy: 0.7250\n",
            "Epoch 96/100\n",
            "1/1 [==============================] - 1s 1s/step - loss: 0.4914 - accuracy: 0.7857 - val_loss: 0.5610 - val_accuracy: 0.7750\n",
            "Epoch 97/100\n",
            "1/1 [==============================] - 1s 1s/step - loss: 0.6097 - accuracy: 0.7245 - val_loss: 0.5466 - val_accuracy: 0.7000\n",
            "Epoch 98/100\n",
            "1/1 [==============================] - 1s 1s/step - loss: 0.5272 - accuracy: 0.7449 - val_loss: 0.5617 - val_accuracy: 0.7750\n",
            "Epoch 99/100\n",
            "1/1 [==============================] - 1s 1s/step - loss: 0.5781 - accuracy: 0.7857 - val_loss: 0.4574 - val_accuracy: 0.7250\n",
            "Epoch 100/100\n",
            "1/1 [==============================] - 1s 1s/step - loss: 0.4753 - accuracy: 0.7551 - val_loss: 0.4371 - val_accuracy: 0.7250\n",
            "2/2 [==============================] - 0s 14ms/step - loss: 0.4371 - accuracy: 0.7250\n",
            "72.500\n"
          ]
        }
      ]
    },
    {
      "cell_type": "code",
      "source": [
        "import pandas as pd\n",
        "# convert the history.history dict to a pandas DataFrame:     \n",
        "train_hist_df = pd.DataFrame(train_history.history) \n",
        "\n",
        "train_dict = {'train_hist': train_hist_df, \n",
        "              'acc': acc}\n",
        "np.save('train_dict.npy', train_dict)   "
      ],
      "metadata": {
        "id": "ldDzRLPqNp7b"
      },
      "execution_count": 26,
      "outputs": []
    },
    {
      "cell_type": "code",
      "source": [
        "Alexnet_model.save('Alexnet_model.h5')"
      ],
      "metadata": {
        "id": "ozPfOGnbNvEU"
      },
      "execution_count": 27,
      "outputs": []
    },
    {
      "cell_type": "code",
      "source": [
        "def plot_accuracy(history):\n",
        "  plt.figure(figsize = (10,6))\n",
        "  plt.plot(history.history['accuracy'], color = 'blue', label = 'train')\n",
        "  plt.plot(history.history['val_accuracy'], color = 'red', label = 'val')\n",
        "  plt.legend()\n",
        "  plt.title('Accuracy')\n",
        "  plt.show()"
      ],
      "metadata": {
        "id": "GoUX63R6NxUP"
      },
      "execution_count": 28,
      "outputs": []
    },
    {
      "cell_type": "code",
      "source": [
        "plot_accuracy(train_history)"
      ],
      "metadata": {
        "colab": {
          "base_uri": "https://localhost:8080/",
          "height": 390
        },
        "id": "dvyecxcJN0g1",
        "outputId": "b5959116-5c16-497f-99eb-adfd785a36b8"
      },
      "execution_count": 29,
      "outputs": [
        {
          "output_type": "display_data",
          "data": {
            "text/plain": [
              "<Figure size 720x432 with 1 Axes>"
            ],
            "image/png": "[encoded data removed]"
          },
          "metadata": {
            "needs_background": "light"
          }
        }
      ]
    },
    {
      "cell_type": "code",
      "source": [
        "#Prediction\n",
        "y_test_pred = []\n",
        "for i in np.arange(len(X_test)):\n",
        "  img = X_test[i]\n",
        "  img = img.reshape(1, 227, 227, 3)\n",
        "  y_p = Alexnet_model.predict(img)\n",
        "  y_test_pred.append(y_p)\n",
        "\n",
        "y_test_pred = np.asarray(y_test_pred)"
      ],
      "metadata": {
        "id": "Q6HPE9cbN5zX"
      },
      "execution_count": 30,
      "outputs": []
    },
    {
      "cell_type": "code",
      "source": [
        "from sklearn.metrics import confusion_matrix\n",
        "import seaborn as sns "
      ],
      "metadata": {
        "id": "KzG2mY_FN-LB"
      },
      "execution_count": 31,
      "outputs": []
    },
    {
      "cell_type": "code",
      "source": [
        "y_test_labels = [np.argmax(vect) for vect in y_test]\n",
        "y_test_pred_labels = [np.argmax(vect) for vect in y_test_pred]"
      ],
      "metadata": {
        "id": "vq1vr4njOAVt"
      },
      "execution_count": 32,
      "outputs": []
    },
    {
      "cell_type": "code",
      "source": [
        "conf_mat = confusion_matrix(y_test_labels, y_test_pred_labels)\n",
        "\n",
        "plt.figure(figsize = (10,8))\n",
        "sns.heatmap(conf_mat, linewidths = 0.1, cmap = 'Blues', linecolor = 'gray', fmt = '.1f', annot = True)\n",
        "plt.xlabel('Predicted classes', fontsize = 20)\n",
        "plt.ylabel('True classes', fontsize = 20)"
      ],
      "metadata": {
        "colab": {
          "base_uri": "https://localhost:8080/",
          "height": 523
        },
        "id": "cF1TgcULOC5A",
        "outputId": "fd32f0d4-abd5-4a84-9c1b-16fa065e41cd"
      },
      "execution_count": 33,
      "outputs": [
        {
          "output_type": "execute_result",
          "data": {
            "text/plain": [
              "Text(69.0, 0.5, 'True classes')"
            ]
          },
          "metadata": {},
          "execution_count": 33
        },
        {
          "output_type": "display_data",
          "data": {
            "text/plain": [
              "<Figure size 720x576 with 2 Axes>"
            ],
            "image/png": "[encoded data removed]"
          },
          "metadata": {
            "needs_background": "light"
          }
        }
      ]
    }
  ]
}