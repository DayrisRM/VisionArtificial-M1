{
  "nbformat": 4,
  "nbformat_minor": 0,
  "metadata": {
    "colab": {
      "name": "VGG16_US_ROI_Dataset.ipynb",
      "provenance": [],
      "collapsed_sections": [],
      "authorship_tag": "ABX9TyN59oQh4XJs1+sLykkFHq1B",
      "include_colab_link": true
    },
    "kernelspec": {
      "name": "python3",
      "display_name": "Python 3"
    },
    "language_info": {
      "name": "python"
    },
    "accelerator": "GPU"
  },
  "cells": [
    {
      "cell_type": "markdown",
      "metadata": {
        "id": "view-in-github",
        "colab_type": "text"
      },
      "source": [
        "<a href=\"https://colab.research.google.com/github/DayrisRM/VisionArtificial-M1/blob/main/VGG16_US_ROI_Dataset.ipynb\" target=\"_parent\"><img src=\"https://colab.research.google.com/assets/colab-badge.svg\" alt=\"Open In Colab\"/></a>"
      ]
    },
    {
      "cell_type": "code",
      "source": [
        "from google.colab import files\n",
        "uploaded = files.upload()"
      ],
      "metadata": {
        "colab": {
          "resources": {
            "http://localhost:8080/nbextensions/google.colab/files.js": {
              "data": "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",
              "ok": true,
              "headers": [
                [
                  "content-type",
                  "application/javascript"
                ]
              ],
              "status": 200,
              "status_text": ""
            }
          },
          "base_uri": "https://localhost:8080/",
          "height": 73
        },
        "id": "FCa7AZsbDJfu",
        "outputId": "20fb4a82-c3ca-4750-e6e9-c3c4f93e32db"
      },
      "execution_count": 1,
      "outputs": [
        {
          "output_type": "display_data",
          "data": {
            "text/plain": [
              "<IPython.core.display.HTML object>"
            ],
            "text/html": [
              "\n",
              "     <input type=\"file\" id=\"files-6f685c75-3aba-4746-b208-be027d71bda5\" name=\"files[]\" multiple disabled\n",
              "        style=\"border:none\" />\n",
              "     <output id=\"result-6f685c75-3aba-4746-b208-be027d71bda5\">\n",
              "      Upload widget is only available when the cell has been executed in the\n",
              "      current browser session. Please rerun this cell to enable.\n",
              "      </output>\n",
              "      <script src=\"/nbextensions/google.colab/files.js\"></script> "
            ]
          },
          "metadata": {}
        },
        {
          "output_type": "stream",
          "name": "stdout",
          "text": [
            "Saving US_ROI_dataset_final.zip to US_ROI_dataset_final.zip\n"
          ]
        }
      ]
    },
    {
      "cell_type": "code",
      "source": [
        "import zipfile\n",
        "import io\n",
        "data = zipfile.ZipFile(io.BytesIO(uploaded['US_ROI_dataset_final.zip']), 'r')\n",
        "data.extractall()"
      ],
      "metadata": {
        "id": "X09ns7gqDMOB"
      },
      "execution_count": 2,
      "outputs": []
    },
    {
      "cell_type": "code",
      "execution_count": 3,
      "metadata": {
        "id": "p5eeC4IuCRio"
      },
      "outputs": [],
      "source": [
        "from keras.applications.vgg16 import VGG16\n",
        "from keras.models import Model\n",
        "from keras.layers import Dense\n",
        "from keras.layers import Flatten\n",
        "from tensorflow.keras.optimizers import SGD\n",
        "from keras.preprocessing.image import ImageDataGenerator\n",
        "import tensorflow as tf\n",
        "from matplotlib import pyplot\n",
        "from keras.callbacks import EarlyStopping\n"
      ]
    },
    {
      "cell_type": "code",
      "source": [
        "# define cnn model\n",
        "def define_model():\n",
        "  # load model\n",
        "  model = VGG16(include_top=False, input_shape=(224, 224, 3))\n",
        "  # mark loaded layers as not trainable\n",
        "  for layer in model.layers:\n",
        "    layer.trainable = False\n",
        "  \n",
        "  last_layer = model.get_layer('block5_pool')\n",
        "  last_output = last_layer.output\n",
        "  x = tf.keras.layers.GlobalMaxPooling2D()(last_output)\n",
        "  x = tf.keras.layers.Dense(512, activation='relu')(x)\n",
        "  x = tf.keras.layers.Dropout(0.5)(x)\n",
        "  x = tf.keras.layers.Dense(1, activation='sigmoid')(x)\n",
        "  model = tf.keras.Model(model.input, x)  \n",
        "\n",
        "  model.compile(optimizer='adam', loss='binary_crossentropy', metrics=['accuracy'])\n",
        "\n",
        "  return model"
      ],
      "metadata": {
        "id": "L3assEzzDSd0"
      },
      "execution_count": 5,
      "outputs": []
    },
    {
      "cell_type": "code",
      "source": [
        "model = define_model()\n",
        "model.summary()"
      ],
      "metadata": {
        "colab": {
          "base_uri": "https://localhost:8080/"
        },
        "id": "g5nAe9N9Sipp",
        "outputId": "a0674f50-7945-4baa-ae9b-820128508609"
      },
      "execution_count": 6,
      "outputs": [
        {
          "output_type": "stream",
          "name": "stdout",
          "text": [
            "Downloading data from https://storage.googleapis.com/tensorflow/keras-applications/vgg16/vgg16_weights_tf_dim_ordering_tf_kernels_notop.h5\n",
            "58892288/58889256 [==============================] - 0s 0us/step\n",
            "58900480/58889256 [==============================] - 0s 0us/step\n",
            "Model: \"model\"\n",
            "_________________________________________________________________\n",
            " Layer (type)                Output Shape              Param #   \n",
            "=================================================================\n",
            " input_1 (InputLayer)        [(None, 224, 224, 3)]     0         \n",
            "                                                                 \n",
            " block1_conv1 (Conv2D)       (None, 224, 224, 64)      1792      \n",
            "                                                                 \n",
            " block1_conv2 (Conv2D)       (None, 224, 224, 64)      36928     \n",
            "                                                                 \n",
            " block1_pool (MaxPooling2D)  (None, 112, 112, 64)      0         \n",
            "                                                                 \n",
            " block2_conv1 (Conv2D)       (None, 112, 112, 128)     73856     \n",
            "                                                                 \n",
            " block2_conv2 (Conv2D)       (None, 112, 112, 128)     147584    \n",
            "                                                                 \n",
            " block2_pool (MaxPooling2D)  (None, 56, 56, 128)       0         \n",
            "                                                                 \n",
            " block3_conv1 (Conv2D)       (None, 56, 56, 256)       295168    \n",
            "                                                                 \n",
            " block3_conv2 (Conv2D)       (None, 56, 56, 256)       590080    \n",
            "                                                                 \n",
            " block3_conv3 (Conv2D)       (None, 56, 56, 256)       590080    \n",
            "                                                                 \n",
            " block3_pool (MaxPooling2D)  (None, 28, 28, 256)       0         \n",
            "                                                                 \n",
            " block4_conv1 (Conv2D)       (None, 28, 28, 512)       1180160   \n",
            "                                                                 \n",
            " block4_conv2 (Conv2D)       (None, 28, 28, 512)       2359808   \n",
            "                                                                 \n",
            " block4_conv3 (Conv2D)       (None, 28, 28, 512)       2359808   \n",
            "                                                                 \n",
            " block4_pool (MaxPooling2D)  (None, 14, 14, 512)       0         \n",
            "                                                                 \n",
            " block5_conv1 (Conv2D)       (None, 14, 14, 512)       2359808   \n",
            "                                                                 \n",
            " block5_conv2 (Conv2D)       (None, 14, 14, 512)       2359808   \n",
            "                                                                 \n",
            " block5_conv3 (Conv2D)       (None, 14, 14, 512)       2359808   \n",
            "                                                                 \n",
            " block5_pool (MaxPooling2D)  (None, 7, 7, 512)         0         \n",
            "                                                                 \n",
            " global_max_pooling2d (Globa  (None, 512)              0         \n",
            " lMaxPooling2D)                                                  \n",
            "                                                                 \n",
            " dense (Dense)               (None, 512)               262656    \n",
            "                                                                 \n",
            " dropout (Dropout)           (None, 512)               0         \n",
            "                                                                 \n",
            " dense_1 (Dense)             (None, 1)                 513       \n",
            "                                                                 \n",
            "=================================================================\n",
            "Total params: 14,977,857\n",
            "Trainable params: 263,169\n",
            "Non-trainable params: 14,714,688\n",
            "_________________________________________________________________\n"
          ]
        }
      ]
    },
    {
      "cell_type": "code",
      "source": [
        "#functions to build confusion matrix\n",
        "from tqdm import tqdm\n",
        "import os\n",
        "import cv2\n",
        "import numpy as np\n",
        "import itertools\n",
        "from sklearn.metrics import accuracy_score, confusion_matrix\n",
        "\n",
        "def load_data(dir_path, img_size=(224,224)):\n",
        "    \"\"\"\n",
        "    Load resized images as np.arrays to workspace\n",
        "    \"\"\"\n",
        "    X = []\n",
        "    y = []\n",
        "    i = 0\n",
        "    labels = dict()\n",
        "    for path in tqdm(sorted(os.listdir(dir_path))):\n",
        "        if not path.startswith('.'):\n",
        "            labels[i] = path\n",
        "            for file in os.listdir(dir_path + path):\n",
        "                if not file.startswith('.'):\n",
        "                    img = cv2.imread(dir_path + path + '/' + file)\n",
        "                    X.append(img)\n",
        "                    y.append(i)\n",
        "            i += 1\n",
        "    X = np.array(X)\n",
        "    y = np.array(y)\n",
        "    print(f'{len(X)} images loaded from {dir_path} directory.')\n",
        "    return X, y, labels\n",
        "\n",
        "\n",
        "\n",
        "def plot_confusion_matrix(cm, classes,\n",
        "                          normalize=False,\n",
        "                          title='Confusion matrix',\n",
        "                          cmap=pyplot.cm.Blues):\n",
        "    \"\"\"\n",
        "    This function prints and plots the confusion matrix.\n",
        "    Normalization can be applied by setting `normalize=True`.\n",
        "    \"\"\"\n",
        "    pyplot.figure(figsize = (6,6))\n",
        "    pyplot.imshow(cm, interpolation='nearest', cmap=cmap)\n",
        "    pyplot.title(title)\n",
        "    pyplot.colorbar()\n",
        "    tick_marks = np.arange(len(classes))\n",
        "    pyplot.xticks(tick_marks, classes, rotation=90)\n",
        "    pyplot.yticks(tick_marks, classes)\n",
        "    if normalize:\n",
        "        cm = cm.astype('float') / cm.sum(axis=1)[:, np.newaxis]\n",
        "\n",
        "    thresh = cm.max() / 2.\n",
        "    cm = np.round(cm,2)\n",
        "    for i, j in itertools.product(range(cm.shape[0]), range(cm.shape[1])):\n",
        "        pyplot.text(j, i, cm[i, j],\n",
        "                 horizontalalignment=\"center\",\n",
        "                 color=\"white\" if cm[i, j] > thresh else \"black\")\n",
        "    pyplot.tight_layout()\n",
        "    pyplot.ylabel('True label')\n",
        "    pyplot.xlabel('Predicted label')\n",
        "    pyplot.show()\n",
        "\n",
        "IMG_SIZE = (224,224)\n",
        "X_val, y_val, labels = load_data('US_ROI_dataset_final/validation/', IMG_SIZE)\n",
        "print(labels)"
      ],
      "metadata": {
        "colab": {
          "base_uri": "https://localhost:8080/"
        },
        "id": "2M-w_N9ftStt",
        "outputId": "27ae0971-df90-47f8-fd92-1bb9732ccf80"
      },
      "execution_count": 7,
      "outputs": [
        {
          "output_type": "stream",
          "name": "stderr",
          "text": [
            "100%|██████████| 2/2 [00:00<00:00, 68.01it/s]"
          ]
        },
        {
          "output_type": "stream",
          "name": "stdout",
          "text": [
            "25 images loaded from US_ROI_dataset_final/validation/ directory.\n",
            "{0: 'Benign', 1: 'Malignant'}\n"
          ]
        },
        {
          "output_type": "stream",
          "name": "stderr",
          "text": [
            "\n"
          ]
        }
      ]
    },
    {
      "cell_type": "code",
      "source": [
        "# plot diagnostic learning curves\n",
        "def summarize_diagnostics(history):\n",
        "  # plot loss\n",
        "  pyplot.figure(0)\n",
        "  pyplot.title('Cross Entropy Loss')\n",
        "  pyplot.plot(history.history['loss'], color='blue', label='train')\n",
        "  pyplot.plot(history.history['val_loss'], color='orange', label='test')\n",
        "  pyplot.legend(['loss','val_loss']) \n",
        "\n",
        "  # plot accuracy\n",
        "  pyplot.figure(1)\n",
        "  pyplot.title('Classification Accuracy')\n",
        "  pyplot.plot(history.history['accuracy'], color='blue', label='train')\n",
        "  pyplot.plot(history.history['val_accuracy'], color='orange', label='test')\n",
        "  pyplot.legend(['accuracy','val_accuracy'])\n",
        "  \n",
        "  # save and show plot to file\n",
        "  pyplot.savefig('metrics_plot.png')\n",
        "  pyplot.show()"
      ],
      "metadata": {
        "id": "ucLDLR2TtMNV"
      },
      "execution_count": 8,
      "outputs": []
    },
    {
      "cell_type": "code",
      "source": [
        "def validateOnValSet(model):  \n",
        "  predictions = model.predict(X_val) \n",
        "  predictions = [1 if x>0.5 else 0 for x in predictions]  \n",
        "  accuracy = accuracy_score(y_val, predictions)  \n",
        "  print('Val Accuracy on validation set = %.2f' % accuracy)\n",
        "  confusion_mtx = confusion_matrix(y_val, predictions)\n",
        "  cm = plot_confusion_matrix(confusion_mtx, classes = list(labels.items()), normalize=False) \n"
      ],
      "metadata": {
        "id": "IAnnxBv2YL1X"
      },
      "execution_count": 9,
      "outputs": []
    },
    {
      "cell_type": "code",
      "source": [
        "# run the test harness for evaluating a model\n",
        "def run_test_harness():\n",
        "  # define model\n",
        "  model = define_model()\n",
        "  # create data generator\n",
        "  datagen = ImageDataGenerator(rescale=1./255)\n",
        "  # prepare iterator\n",
        "  train_it = datagen.flow_from_directory('US_ROI_dataset_final/train/',\n",
        "\t\tclass_mode='binary', batch_size=64, target_size=(224, 224))\n",
        "  test_it = datagen.flow_from_directory('US_ROI_dataset_final/test/',\n",
        "\t\tclass_mode='binary', batch_size=64, target_size=(224, 224))\n",
        "  #callback\n",
        "  #es = EarlyStopping(monitor='accuracy', patience=8, mode='max', verbose=1)\n",
        "  # fit model\n",
        "  history = model.fit(train_it, steps_per_epoch=len(train_it),\n",
        "\t\tvalidation_data=test_it, validation_steps=len(test_it), epochs=60, verbose=1)\n",
        "  # evaluate model\n",
        "  loss, acc = model.evaluate(test_it, steps=len(test_it), verbose=1)\n",
        "  print('acc > %.3f' % (acc * 100.0))\n",
        "  print(\"loss : \", loss)    \n",
        "  # learning curves\n",
        "  summarize_diagnostics(history)\n",
        "  validateOnValSet(model)\n",
        "\n",
        "  # save model\n",
        "  #model.save('final_model.h5')"
      ],
      "metadata": {
        "id": "EbJYzhnBD4ps"
      },
      "execution_count": 10,
      "outputs": []
    },
    {
      "cell_type": "code",
      "source": [
        "# entry point, run the test harness\n",
        "run_test_harness()"
      ],
      "metadata": {
        "colab": {
          "base_uri": "https://localhost:8080/",
          "height": 1000
        },
        "id": "sTVAfCcmEEzz",
        "outputId": "b27f2129-0f71-41aa-c40f-90a92915e4b1"
      },
      "execution_count": 11,
      "outputs": [
        {
          "output_type": "stream",
          "name": "stdout",
          "text": [
            "Found 98 images belonging to 2 classes.\n",
            "Found 40 images belonging to 2 classes.\n",
            "Epoch 1/60\n",
            "2/2 [==============================] - 22s 6s/step - loss: 0.7660 - accuracy: 0.5612 - val_loss: 0.6557 - val_accuracy: 0.6500\n",
            "Epoch 2/60\n",
            "2/2 [==============================] - 1s 552ms/step - loss: 0.6382 - accuracy: 0.6837 - val_loss: 0.7163 - val_accuracy: 0.6500\n",
            "Epoch 3/60\n",
            "2/2 [==============================] - 1s 454ms/step - loss: 0.6036 - accuracy: 0.7041 - val_loss: 0.5289 - val_accuracy: 0.7000\n",
            "Epoch 4/60\n",
            "2/2 [==============================] - 1s 463ms/step - loss: 0.5478 - accuracy: 0.7245 - val_loss: 0.5150 - val_accuracy: 0.7500\n",
            "Epoch 5/60\n",
            "2/2 [==============================] - 1s 549ms/step - loss: 0.5272 - accuracy: 0.7245 - val_loss: 0.4859 - val_accuracy: 0.7750\n",
            "Epoch 6/60\n",
            "2/2 [==============================] - 1s 554ms/step - loss: 0.4803 - accuracy: 0.7755 - val_loss: 0.5412 - val_accuracy: 0.7250\n",
            "Epoch 7/60\n",
            "2/2 [==============================] - 1s 551ms/step - loss: 0.5602 - accuracy: 0.7347 - val_loss: 0.5122 - val_accuracy: 0.7250\n",
            "Epoch 8/60\n",
            "2/2 [==============================] - 1s 557ms/step - loss: 0.4724 - accuracy: 0.7959 - val_loss: 0.4549 - val_accuracy: 0.8250\n",
            "Epoch 9/60\n",
            "2/2 [==============================] - 1s 456ms/step - loss: 0.4424 - accuracy: 0.7959 - val_loss: 0.4340 - val_accuracy: 0.8500\n",
            "Epoch 10/60\n",
            "2/2 [==============================] - 1s 551ms/step - loss: 0.4065 - accuracy: 0.8265 - val_loss: 0.4253 - val_accuracy: 0.8500\n",
            "Epoch 11/60\n",
            "2/2 [==============================] - 1s 559ms/step - loss: 0.3768 - accuracy: 0.8469 - val_loss: 0.4436 - val_accuracy: 0.8250\n",
            "Epoch 12/60\n",
            "2/2 [==============================] - 1s 464ms/step - loss: 0.4204 - accuracy: 0.8469 - val_loss: 0.4727 - val_accuracy: 0.7750\n",
            "Epoch 13/60\n",
            "2/2 [==============================] - 1s 554ms/step - loss: 0.3692 - accuracy: 0.8469 - val_loss: 0.4096 - val_accuracy: 0.8250\n",
            "Epoch 14/60\n",
            "2/2 [==============================] - 1s 552ms/step - loss: 0.3549 - accuracy: 0.8776 - val_loss: 0.3889 - val_accuracy: 0.8750\n",
            "Epoch 15/60\n",
            "2/2 [==============================] - 1s 461ms/step - loss: 0.4010 - accuracy: 0.8469 - val_loss: 0.3831 - val_accuracy: 0.8750\n",
            "Epoch 16/60\n",
            "2/2 [==============================] - 1s 460ms/step - loss: 0.3769 - accuracy: 0.8163 - val_loss: 0.4063 - val_accuracy: 0.8250\n",
            "Epoch 17/60\n",
            "2/2 [==============================] - 1s 564ms/step - loss: 0.3496 - accuracy: 0.8878 - val_loss: 0.4609 - val_accuracy: 0.8000\n",
            "Epoch 18/60\n",
            "2/2 [==============================] - 1s 557ms/step - loss: 0.4017 - accuracy: 0.8469 - val_loss: 0.4278 - val_accuracy: 0.8000\n",
            "Epoch 19/60\n",
            "2/2 [==============================] - 1s 462ms/step - loss: 0.3421 - accuracy: 0.9082 - val_loss: 0.3654 - val_accuracy: 0.9000\n",
            "Epoch 20/60\n",
            "2/2 [==============================] - 1s 458ms/step - loss: 0.3427 - accuracy: 0.8673 - val_loss: 0.3630 - val_accuracy: 0.8750\n",
            "Epoch 21/60\n",
            "2/2 [==============================] - 1s 564ms/step - loss: 0.2913 - accuracy: 0.8469 - val_loss: 0.3552 - val_accuracy: 0.9000\n",
            "Epoch 22/60\n",
            "2/2 [==============================] - 1s 562ms/step - loss: 0.2795 - accuracy: 0.9184 - val_loss: 0.3674 - val_accuracy: 0.8500\n",
            "Epoch 23/60\n",
            "2/2 [==============================] - 1s 559ms/step - loss: 0.3246 - accuracy: 0.8878 - val_loss: 0.3639 - val_accuracy: 0.8500\n",
            "Epoch 24/60\n",
            "2/2 [==============================] - 1s 472ms/step - loss: 0.3116 - accuracy: 0.9082 - val_loss: 0.3577 - val_accuracy: 0.8500\n",
            "Epoch 25/60\n",
            "2/2 [==============================] - 1s 560ms/step - loss: 0.2778 - accuracy: 0.9184 - val_loss: 0.3542 - val_accuracy: 0.8500\n",
            "Epoch 26/60\n",
            "2/2 [==============================] - 1s 562ms/step - loss: 0.2749 - accuracy: 0.9286 - val_loss: 0.3485 - val_accuracy: 0.8750\n",
            "Epoch 27/60\n",
            "2/2 [==============================] - 1s 561ms/step - loss: 0.2557 - accuracy: 0.9184 - val_loss: 0.3466 - val_accuracy: 0.8750\n",
            "Epoch 28/60\n",
            "2/2 [==============================] - 1s 468ms/step - loss: 0.2670 - accuracy: 0.8878 - val_loss: 0.3348 - val_accuracy: 0.8750\n",
            "Epoch 29/60\n",
            "2/2 [==============================] - 1s 472ms/step - loss: 0.2546 - accuracy: 0.9082 - val_loss: 0.3305 - val_accuracy: 0.8750\n",
            "Epoch 30/60\n",
            "2/2 [==============================] - 1s 562ms/step - loss: 0.2785 - accuracy: 0.9184 - val_loss: 0.3345 - val_accuracy: 0.8750\n",
            "Epoch 31/60\n",
            "2/2 [==============================] - 1s 468ms/step - loss: 0.2543 - accuracy: 0.9082 - val_loss: 0.3320 - val_accuracy: 0.8750\n",
            "Epoch 32/60\n",
            "2/2 [==============================] - 1s 464ms/step - loss: 0.2820 - accuracy: 0.9184 - val_loss: 0.3260 - val_accuracy: 0.8750\n",
            "Epoch 33/60\n",
            "2/2 [==============================] - 1s 464ms/step - loss: 0.2340 - accuracy: 0.9286 - val_loss: 0.3229 - val_accuracy: 0.8750\n",
            "Epoch 34/60\n",
            "2/2 [==============================] - 1s 560ms/step - loss: 0.2573 - accuracy: 0.9184 - val_loss: 0.3209 - val_accuracy: 0.8750\n",
            "Epoch 35/60\n",
            "2/2 [==============================] - 1s 476ms/step - loss: 0.2518 - accuracy: 0.8980 - val_loss: 0.3265 - val_accuracy: 0.8500\n",
            "Epoch 36/60\n",
            "2/2 [==============================] - 1s 563ms/step - loss: 0.2436 - accuracy: 0.9286 - val_loss: 0.3261 - val_accuracy: 0.8250\n",
            "Epoch 37/60\n",
            "2/2 [==============================] - 1s 568ms/step - loss: 0.2183 - accuracy: 0.9286 - val_loss: 0.3141 - val_accuracy: 0.8750\n",
            "Epoch 38/60\n",
            "2/2 [==============================] - 1s 575ms/step - loss: 0.2197 - accuracy: 0.9184 - val_loss: 0.3073 - val_accuracy: 0.8750\n",
            "Epoch 39/60\n",
            "2/2 [==============================] - 1s 468ms/step - loss: 0.2125 - accuracy: 0.9592 - val_loss: 0.3073 - val_accuracy: 0.9000\n",
            "Epoch 40/60\n",
            "2/2 [==============================] - 1s 570ms/step - loss: 0.2117 - accuracy: 0.9388 - val_loss: 0.3080 - val_accuracy: 0.8750\n",
            "Epoch 41/60\n",
            "2/2 [==============================] - 1s 471ms/step - loss: 0.2211 - accuracy: 0.9388 - val_loss: 0.3182 - val_accuracy: 0.8500\n",
            "Epoch 42/60\n",
            "2/2 [==============================] - 1s 474ms/step - loss: 0.2160 - accuracy: 0.9286 - val_loss: 0.3163 - val_accuracy: 0.8500\n",
            "Epoch 43/60\n",
            "2/2 [==============================] - 1s 568ms/step - loss: 0.2120 - accuracy: 0.9286 - val_loss: 0.3037 - val_accuracy: 0.8750\n",
            "Epoch 44/60\n",
            "2/2 [==============================] - 1s 564ms/step - loss: 0.1975 - accuracy: 0.9286 - val_loss: 0.3205 - val_accuracy: 0.8250\n",
            "Epoch 45/60\n",
            "2/2 [==============================] - 1s 471ms/step - loss: 0.2064 - accuracy: 0.9490 - val_loss: 0.3176 - val_accuracy: 0.8500\n",
            "Epoch 46/60\n",
            "2/2 [==============================] - 1s 471ms/step - loss: 0.1893 - accuracy: 0.9490 - val_loss: 0.3058 - val_accuracy: 0.8750\n",
            "Epoch 47/60\n",
            "2/2 [==============================] - 1s 474ms/step - loss: 0.2131 - accuracy: 0.9286 - val_loss: 0.2944 - val_accuracy: 0.9000\n",
            "Epoch 48/60\n",
            "2/2 [==============================] - 1s 572ms/step - loss: 0.2261 - accuracy: 0.9388 - val_loss: 0.2963 - val_accuracy: 0.9000\n",
            "Epoch 49/60\n",
            "2/2 [==============================] - 1s 576ms/step - loss: 0.2013 - accuracy: 0.9592 - val_loss: 0.2947 - val_accuracy: 0.9000\n",
            "Epoch 50/60\n",
            "2/2 [==============================] - 1s 578ms/step - loss: 0.1696 - accuracy: 0.9694 - val_loss: 0.3098 - val_accuracy: 0.8750\n",
            "Epoch 51/60\n",
            "2/2 [==============================] - 1s 483ms/step - loss: 0.1971 - accuracy: 0.9490 - val_loss: 0.3232 - val_accuracy: 0.8500\n",
            "Epoch 52/60\n",
            "2/2 [==============================] - 1s 570ms/step - loss: 0.1741 - accuracy: 0.9592 - val_loss: 0.3138 - val_accuracy: 0.8750\n",
            "Epoch 53/60\n",
            "2/2 [==============================] - 1s 574ms/step - loss: 0.1826 - accuracy: 0.9592 - val_loss: 0.2950 - val_accuracy: 0.8750\n",
            "Epoch 54/60\n",
            "2/2 [==============================] - 1s 476ms/step - loss: 0.1707 - accuracy: 0.9694 - val_loss: 0.2870 - val_accuracy: 0.9000\n",
            "Epoch 55/60\n",
            "2/2 [==============================] - 1s 485ms/step - loss: 0.1745 - accuracy: 0.9490 - val_loss: 0.2856 - val_accuracy: 0.9000\n",
            "Epoch 56/60\n",
            "2/2 [==============================] - 1s 473ms/step - loss: 0.1491 - accuracy: 0.9694 - val_loss: 0.2894 - val_accuracy: 0.9000\n",
            "Epoch 57/60\n",
            "2/2 [==============================] - 1s 483ms/step - loss: 0.1783 - accuracy: 0.9388 - val_loss: 0.3033 - val_accuracy: 0.8750\n",
            "Epoch 58/60\n",
            "2/2 [==============================] - 1s 476ms/step - loss: 0.1864 - accuracy: 0.9592 - val_loss: 0.3028 - val_accuracy: 0.8750\n",
            "Epoch 59/60\n",
            "2/2 [==============================] - 1s 484ms/step - loss: 0.1778 - accuracy: 0.9490 - val_loss: 0.2844 - val_accuracy: 0.9000\n",
            "Epoch 60/60\n",
            "2/2 [==============================] - 1s 584ms/step - loss: 0.1530 - accuracy: 0.9592 - val_loss: 0.2851 - val_accuracy: 0.8750\n",
            "1/1 [==============================] - 0s 283ms/step - loss: 0.2851 - accuracy: 0.8750\n",
            "acc > 87.500\n",
            "loss :  0.285121351480484\n"
          ]
        },
        {
          "output_type": "display_data",
          "data": {
            "text/plain": [
              "<Figure size 432x288 with 1 Axes>"
            ],
            "image/png": "[encoded data removed]"
          },
          "metadata": {
            "needs_background": "light"
          }
        },
        {
          "output_type": "display_data",
          "data": {
            "text/plain": [
              "<Figure size 432x288 with 1 Axes>"
            ],
            "image/png": "[encoded data removed]"
          },
          "metadata": {
            "needs_background": "light"
          }
        },
        {
          "output_type": "stream",
          "name": "stdout",
          "text": [
            "Val Accuracy on validation set = 0.72\n"
          ]
        },
        {
          "output_type": "display_data",
          "data": {
            "text/plain": [
              "<Figure size 432x432 with 2 Axes>"
            ],
            "image/png": "[encoded data removed]"
          },
          "metadata": {
            "needs_background": "light"
          }
        }
      ]
    }
  ]
}