{
  "nbformat": 4,
  "nbformat_minor": 0,
  "metadata": {
    "colab": {
      "name": "VGG_US_Datatset.ipynb",
      "provenance": [],
      "collapsed_sections": [],
      "authorship_tag": "ABX9TyOoInvPT7sYeWjtsxxERGma",
      "include_colab_link": true
    },
    "kernelspec": {
      "name": "python3",
      "display_name": "Python 3"
    },
    "language_info": {
      "name": "python"
    }
  },
  "cells": [
    {
      "cell_type": "markdown",
      "metadata": {
        "id": "view-in-github",
        "colab_type": "text"
      },
      "source": [
        "<a href=\"https://colab.research.google.com/github/DayrisRM/VisionArtificial-M1/blob/main/VGG_US_Datatset.ipynb\" target=\"_parent\"><img src=\"https://colab.research.google.com/assets/colab-badge.svg\" alt=\"Open In Colab\"/></a>"
      ]
    },
    {
      "cell_type": "code",
      "execution_count": null,
      "metadata": {
        "colab": {
          "resources": {
            "http://localhost:8080/nbextensions/google.colab/files.js": {
              "data": "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",
              "ok": true,
              "headers": [
                [
                  "content-type",
                  "application/javascript"
                ]
              ],
              "status": 200,
              "status_text": ""
            }
          },
          "base_uri": "https://localhost:8080/",
          "height": 73
        },
        "id": "ykpmVBclQ--m",
        "outputId": "e76f25fe-5be7-49c4-8754-9392a882a285"
      },
      "outputs": [
        {
          "output_type": "display_data",
          "data": {
            "text/plain": [
              "<IPython.core.display.HTML object>"
            ],
            "text/html": [
              "\n",
              "     <input type=\"file\" id=\"files-2d3107d5-e84f-4e61-994f-2367c0e14315\" name=\"files[]\" multiple disabled\n",
              "        style=\"border:none\" />\n",
              "     <output id=\"result-2d3107d5-e84f-4e61-994f-2367c0e14315\">\n",
              "      Upload widget is only available when the cell has been executed in the\n",
              "      current browser session. Please rerun this cell to enable.\n",
              "      </output>\n",
              "      <script src=\"/nbextensions/google.colab/files.js\"></script> "
            ]
          },
          "metadata": {}
        },
        {
          "output_type": "stream",
          "name": "stdout",
          "text": [
            "Saving US_Original_dataset_final.zip to US_Original_dataset_final.zip\n"
          ]
        }
      ],
      "source": [
        "from google.colab import files\n",
        "uploaded = files.upload()"
      ]
    },
    {
      "cell_type": "code",
      "source": [
        "import zipfile\n",
        "import io\n",
        "data = zipfile.ZipFile(io.BytesIO(uploaded['US_Original_dataset_final.zip']), 'r')\n",
        "data.extractall()"
      ],
      "metadata": {
        "id": "-gWzELQRStOH"
      },
      "execution_count": null,
      "outputs": []
    },
    {
      "cell_type": "code",
      "source": [
        "import sys\n",
        "from matplotlib import pyplot\n",
        "from tensorflow.keras.utils import to_categorical\n",
        "from keras.models import Sequential\n",
        "from keras.layers import Conv2D\n",
        "from keras.layers import MaxPooling2D\n",
        "from keras.layers import Dense\n",
        "from keras.layers import Flatten\n",
        "from keras.layers import Dropout\n",
        "from tensorflow.keras.optimizers import SGD\n",
        "from keras.preprocessing.image import ImageDataGenerator\n",
        "from keras.callbacks import EarlyStopping\n",
        "from keras.callbacks import ReduceLROnPlateau\n"
      ],
      "metadata": {
        "id": "4sppYv0fUJKe"
      },
      "execution_count": null,
      "outputs": []
    },
    {
      "cell_type": "code",
      "source": [
        "# define cnn model\n",
        "def define_model():\n",
        "\tmodel = Sequential()\n",
        "\tmodel.add(Conv2D(32, (3, 3), activation='relu', kernel_initializer='he_uniform', padding='same', input_shape=(224, 224, 3)))\n",
        "\tmodel.add(MaxPooling2D((2, 2)))\n",
        "\tmodel.add(Dropout(0.2))\n",
        "\tmodel.add(Conv2D(64, (3, 3), activation='relu', kernel_initializer='he_uniform', padding='same'))\n",
        "\tmodel.add(MaxPooling2D((2, 2)))\n",
        "\tmodel.add(Dropout(0.2))\n",
        "\tmodel.add(Conv2D(128, (3, 3), activation='relu', kernel_initializer='he_uniform', padding='same'))\n",
        "\tmodel.add(MaxPooling2D((2, 2)))\n",
        "\tmodel.add(Dropout(0.2))\n",
        "\tmodel.add(Flatten())\n",
        "\tmodel.add(Dense(128, activation='relu', kernel_initializer='he_uniform'))\n",
        "\tmodel.add(Dropout(0.5))\n",
        "\tmodel.add(Dense(1, activation='sigmoid'))\n",
        "\t# compile model\n",
        "\topt = SGD(learning_rate=0.01, momentum=0.9)\n",
        "\tmodel.compile(optimizer=opt, loss='binary_crossentropy', metrics=['accuracy'])\n",
        "\treturn model"
      ],
      "metadata": {
        "id": "gh3TunezVdLb"
      },
      "execution_count": null,
      "outputs": []
    },
    {
      "cell_type": "code",
      "source": [
        "model = define_model()\n",
        "model.summary()"
      ],
      "metadata": {
        "colab": {
          "base_uri": "https://localhost:8080/"
        },
        "id": "1i6j8fbEFkmz",
        "outputId": "5d10a801-48cd-497b-b701-4ea6eeaff5c9"
      },
      "execution_count": null,
      "outputs": [
        {
          "output_type": "stream",
          "name": "stdout",
          "text": [
            "Model: \"sequential_40\"\n",
            "_________________________________________________________________\n",
            " Layer (type)                Output Shape              Param #   \n",
            "=================================================================\n",
            " conv2d_118 (Conv2D)         (None, 224, 224, 32)      896       \n",
            "                                                                 \n",
            " max_pooling2d_118 (MaxPooli  (None, 112, 112, 32)     0         \n",
            " ng2D)                                                           \n",
            "                                                                 \n",
            " dropout_156 (Dropout)       (None, 112, 112, 32)      0         \n",
            "                                                                 \n",
            " conv2d_119 (Conv2D)         (None, 112, 112, 64)      18496     \n",
            "                                                                 \n",
            " max_pooling2d_119 (MaxPooli  (None, 56, 56, 64)       0         \n",
            " ng2D)                                                           \n",
            "                                                                 \n",
            " dropout_157 (Dropout)       (None, 56, 56, 64)        0         \n",
            "                                                                 \n",
            " conv2d_120 (Conv2D)         (None, 56, 56, 128)       73856     \n",
            "                                                                 \n",
            " max_pooling2d_120 (MaxPooli  (None, 28, 28, 128)      0         \n",
            " ng2D)                                                           \n",
            "                                                                 \n",
            " dropout_158 (Dropout)       (None, 28, 28, 128)       0         \n",
            "                                                                 \n",
            " flatten_40 (Flatten)        (None, 100352)            0         \n",
            "                                                                 \n",
            " dense_80 (Dense)            (None, 128)               12845184  \n",
            "                                                                 \n",
            " dropout_159 (Dropout)       (None, 128)               0         \n",
            "                                                                 \n",
            " dense_81 (Dense)            (None, 1)                 129       \n",
            "                                                                 \n",
            "=================================================================\n",
            "Total params: 12,938,561\n",
            "Trainable params: 12,938,561\n",
            "Non-trainable params: 0\n",
            "_________________________________________________________________\n"
          ]
        }
      ]
    },
    {
      "cell_type": "code",
      "source": [
        "# plot diagnostic learning curves\n",
        "def summarize_diagnostics(history):\n",
        "  # plot loss\n",
        "  pyplot.figure(0)\n",
        "  pyplot.title('Cross Entropy Loss')\n",
        "  pyplot.plot(history.history['loss'], color='blue', label='train')\n",
        "  pyplot.plot(history.history['val_loss'], color='orange', label='test')\n",
        "  pyplot.legend(['loss','val_loss']) \n",
        "\n",
        "  # plot accuracy\n",
        "  pyplot.figure(1)\n",
        "  pyplot.title('Classification Accuracy')\n",
        "  pyplot.plot(history.history['accuracy'], color='blue', label='train')\n",
        "  pyplot.plot(history.history['val_accuracy'], color='orange', label='test')\n",
        "  pyplot.legend(['accuracy','val_accuracy'])\n",
        "  \n",
        "  # save and show plot to file\n",
        "  pyplot.savefig('metrics_plot.png')\n",
        "  pyplot.show()\n",
        "\t\n"
      ],
      "metadata": {
        "id": "BsIDjiOsVk7l"
      },
      "execution_count": null,
      "outputs": []
    },
    {
      "cell_type": "code",
      "source": [
        "#functions to build confusion matrix\n",
        "from tqdm import tqdm\n",
        "import os\n",
        "import cv2\n",
        "import numpy as np\n",
        "import itertools\n",
        "from sklearn.metrics import accuracy_score, confusion_matrix\n",
        "\n",
        "def load_data(dir_path, img_size=(224,224)):\n",
        "    \"\"\"\n",
        "    Load resized images as np.arrays to workspace\n",
        "    \"\"\"\n",
        "    X = []\n",
        "    y = []\n",
        "    i = 0\n",
        "    labels = dict()\n",
        "    for path in tqdm(sorted(os.listdir(dir_path))):\n",
        "        if not path.startswith('.'):\n",
        "            labels[i] = path\n",
        "            for file in os.listdir(dir_path + path):\n",
        "                if not file.startswith('.'):\n",
        "                    img = cv2.imread(dir_path + path + '/' + file)\n",
        "                    X.append(img)\n",
        "                    y.append(i)\n",
        "            i += 1\n",
        "    X = np.array(X)\n",
        "    y = np.array(y)\n",
        "    print(f'{len(X)} images loaded from {dir_path} directory.')\n",
        "    return X, y, labels\n",
        "\n",
        "\n",
        "\n",
        "def plot_confusion_matrix(cm, classes,\n",
        "                          normalize=False,\n",
        "                          title='Confusion matrix',\n",
        "                          cmap=pyplot.cm.Blues):\n",
        "    \"\"\"\n",
        "    This function prints and plots the confusion matrix.\n",
        "    Normalization can be applied by setting `normalize=True`.\n",
        "    \"\"\"\n",
        "    pyplot.figure(figsize = (6,6))\n",
        "    pyplot.imshow(cm, interpolation='nearest', cmap=cmap)\n",
        "    pyplot.title(title)\n",
        "    pyplot.colorbar()\n",
        "    tick_marks = np.arange(len(classes))\n",
        "    pyplot.xticks(tick_marks, classes, rotation=90)\n",
        "    pyplot.yticks(tick_marks, classes)\n",
        "    if normalize:\n",
        "        cm = cm.astype('float') / cm.sum(axis=1)[:, np.newaxis]\n",
        "\n",
        "    thresh = cm.max() / 2.\n",
        "    cm = np.round(cm,2)\n",
        "    for i, j in itertools.product(range(cm.shape[0]), range(cm.shape[1])):\n",
        "        pyplot.text(j, i, cm[i, j],\n",
        "                 horizontalalignment=\"center\",\n",
        "                 color=\"white\" if cm[i, j] > thresh else \"black\")\n",
        "    pyplot.tight_layout()\n",
        "    pyplot.ylabel('True label')\n",
        "    pyplot.xlabel('Predicted label')\n",
        "    pyplot.show()\n",
        "\n",
        "IMG_SIZE = (224,224)\n",
        "X_val, y_val, labels = load_data('US_Original_dataset_final/validation/', IMG_SIZE)\n",
        "print(labels)"
      ],
      "metadata": {
        "colab": {
          "base_uri": "https://localhost:8080/"
        },
        "id": "8SVWbR_YWuTD",
        "outputId": "6b6ba101-89b7-4c51-c5ca-c7c3a4688567"
      },
      "execution_count": null,
      "outputs": [
        {
          "output_type": "stream",
          "name": "stderr",
          "text": [
            "100%|██████████| 2/2 [00:00<00:00, 85.09it/s]"
          ]
        },
        {
          "output_type": "stream",
          "name": "stdout",
          "text": [
            "25 images loaded from US_Original_dataset_final/validation/ directory.\n",
            "{0: 'Benign', 1: 'Malignant'}\n"
          ]
        },
        {
          "output_type": "stream",
          "name": "stderr",
          "text": [
            "\n"
          ]
        }
      ]
    },
    {
      "cell_type": "code",
      "source": [
        "def validateOnValSet(model):\n",
        "  predictions = model.predict(X_val)\n",
        "  predictions = [1 if x>0.5 else 0 for x in predictions]\n",
        "  accuracy = accuracy_score(y_val, predictions)\n",
        "  print('')\n",
        "  print('Val Accuracy on validation set = %.2f' % accuracy)\n",
        "  confusion_mtx = confusion_matrix(y_val, predictions)\n",
        "  cm = plot_confusion_matrix(confusion_mtx, classes = list(labels.items()), normalize=False) \n"
      ],
      "metadata": {
        "id": "IAnnxBv2YL1X"
      },
      "execution_count": null,
      "outputs": []
    },
    {
      "cell_type": "code",
      "source": [
        "# run the test harness for evaluating a model\n",
        "def run_test_harness():\n",
        "  # define model\n",
        "  model = define_model()\n",
        "  # create data generator\n",
        "  datagen = ImageDataGenerator(rescale=1.0/255.0)\n",
        "  # prepare iterators\n",
        "  train_it = datagen.flow_from_directory('US_Original_dataset_final/train/',\n",
        "\t\tclass_mode='binary', batch_size=64, target_size=(224, 224))\n",
        "  test_it = datagen.flow_from_directory('US_Original_dataset_final/test/',\n",
        "\t\tclass_mode='binary', batch_size=64, target_size=(224, 224))\n",
        "  # callback\n",
        "  #es = EarlyStopping(monitor='val_accuracy', patience=8, mode='max', verbose=1)\n",
        "  es = EarlyStopping(monitor='val_loss', patience=8, verbose=1, min_delta=1e-4)\n",
        "  rlrop = ReduceLROnPlateau(monitor='val_loss', factor=0.1, patience=4, verbose=1, min_delta=1e-4)\n",
        "  # fit model\n",
        "  history = model.fit(train_it, steps_per_epoch=len(train_it),\n",
        "\t\tvalidation_data=test_it, validation_steps=len(test_it), epochs=40, verbose=1,\n",
        "    callbacks=[es, rlrop])\n",
        "  # evaluate model\n",
        "  loss, acc = model.evaluate(test_it, steps=len(test_it), verbose=1)\n",
        "  print('acc > %.3f' % (acc * 100.0))\n",
        "  print(\"loss : \", loss)   \n",
        "  # learning curves\n",
        "  summarize_diagnostics(history)\n",
        "  validateOnValSet(model)"
      ],
      "metadata": {
        "id": "8Jy2u1dpVpeY"
      },
      "execution_count": null,
      "outputs": []
    },
    {
      "cell_type": "code",
      "source": [
        "# entry point, run the test harness\n",
        "run_test_harness()"
      ],
      "metadata": {
        "colab": {
          "base_uri": "https://localhost:8080/",
          "height": 1000
        },
        "id": "xZW6BnfuV8EL",
        "outputId": "effab436-f3cc-4c86-bb3e-58ffeef51961"
      },
      "execution_count": null,
      "outputs": [
        {
          "output_type": "stream",
          "name": "stdout",
          "text": [
            "Found 98 images belonging to 2 classes.\n",
            "Found 40 images belonging to 2 classes.\n",
            "Epoch 1/40\n"
          ]
        },
        {
          "output_type": "stream",
          "name": "stderr",
          "text": [
            "/usr/local/lib/python3.7/dist-packages/ipykernel_launcher.py:19: UserWarning: `Model.fit_generator` is deprecated and will be removed in a future version. Please use `Model.fit`, which supports generators.\n"
          ]
        },
        {
          "output_type": "stream",
          "name": "stdout",
          "text": [
            "2/2 [==============================] - 13s 5s/step - loss: 1.3151 - accuracy: 0.4898 - val_loss: 1.3790 - val_accuracy: 0.3750 - lr: 0.0100\n",
            "Epoch 2/40\n",
            "2/2 [==============================] - 11s 5s/step - loss: 2.2382 - accuracy: 0.5102 - val_loss: 0.6848 - val_accuracy: 0.6500 - lr: 0.0100\n",
            "Epoch 3/40\n",
            "2/2 [==============================] - 11s 5s/step - loss: 0.6779 - accuracy: 0.7041 - val_loss: 0.6906 - val_accuracy: 0.4750 - lr: 0.0100\n",
            "Epoch 4/40\n",
            "2/2 [==============================] - 11s 5s/step - loss: 0.7258 - accuracy: 0.5102 - val_loss: 0.6815 - val_accuracy: 0.7000 - lr: 0.0100\n",
            "Epoch 5/40\n",
            "2/2 [==============================] - 11s 8s/step - loss: 0.6442 - accuracy: 0.7245 - val_loss: 0.6734 - val_accuracy: 0.6500 - lr: 0.0100\n",
            "Epoch 6/40\n",
            "2/2 [==============================] - 11s 8s/step - loss: 0.6301 - accuracy: 0.7041 - val_loss: 0.6565 - val_accuracy: 0.6500 - lr: 0.0100\n",
            "Epoch 7/40\n",
            "2/2 [==============================] - 11s 5s/step - loss: 0.6253 - accuracy: 0.6939 - val_loss: 0.6425 - val_accuracy: 0.6500 - lr: 0.0100\n",
            "Epoch 8/40\n",
            "2/2 [==============================] - 11s 5s/step - loss: 0.5852 - accuracy: 0.6939 - val_loss: 0.6348 - val_accuracy: 0.6500 - lr: 0.0100\n",
            "Epoch 9/40\n",
            "2/2 [==============================] - 11s 5s/step - loss: 0.6211 - accuracy: 0.7143 - val_loss: 0.6315 - val_accuracy: 0.6500 - lr: 0.0100\n",
            "Epoch 10/40\n",
            "2/2 [==============================] - 11s 5s/step - loss: 0.5735 - accuracy: 0.6939 - val_loss: 0.6285 - val_accuracy: 0.6750 - lr: 0.0100\n",
            "Epoch 11/40\n",
            "2/2 [==============================] - 11s 5s/step - loss: 0.5720 - accuracy: 0.6735 - val_loss: 0.6303 - val_accuracy: 0.7000 - lr: 0.0100\n",
            "Epoch 12/40\n",
            "2/2 [==============================] - 11s 8s/step - loss: 0.5492 - accuracy: 0.7245 - val_loss: 0.6253 - val_accuracy: 0.7000 - lr: 0.0100\n",
            "Epoch 13/40\n",
            "2/2 [==============================] - 11s 5s/step - loss: 0.5335 - accuracy: 0.7449 - val_loss: 0.6190 - val_accuracy: 0.7000 - lr: 0.0100\n",
            "Epoch 14/40\n",
            "2/2 [==============================] - 11s 5s/step - loss: 0.5640 - accuracy: 0.7347 - val_loss: 0.6149 - val_accuracy: 0.6750 - lr: 0.0100\n",
            "Epoch 15/40\n",
            "2/2 [==============================] - 11s 8s/step - loss: 0.5353 - accuracy: 0.7143 - val_loss: 0.6152 - val_accuracy: 0.6750 - lr: 0.0100\n",
            "Epoch 16/40\n",
            "2/2 [==============================] - 11s 8s/step - loss: 0.5021 - accuracy: 0.7551 - val_loss: 0.6208 - val_accuracy: 0.7000 - lr: 0.0100\n",
            "Epoch 17/40\n",
            "2/2 [==============================] - 11s 8s/step - loss: 0.5123 - accuracy: 0.7653 - val_loss: 0.6166 - val_accuracy: 0.7250 - lr: 0.0100\n",
            "Epoch 18/40\n",
            "2/2 [==============================] - 11s 5s/step - loss: 0.5060 - accuracy: 0.7653 - val_loss: 0.6085 - val_accuracy: 0.7250 - lr: 0.0100\n",
            "Epoch 19/40\n",
            "2/2 [==============================] - 11s 8s/step - loss: 0.4999 - accuracy: 0.7143 - val_loss: 0.5936 - val_accuracy: 0.6750 - lr: 0.0100\n",
            "Epoch 20/40\n",
            "2/2 [==============================] - 11s 5s/step - loss: 0.4704 - accuracy: 0.7755 - val_loss: 0.5900 - val_accuracy: 0.7250 - lr: 0.0100\n",
            "Epoch 21/40\n",
            "2/2 [==============================] - 11s 8s/step - loss: 0.4437 - accuracy: 0.7857 - val_loss: 0.6003 - val_accuracy: 0.7250 - lr: 0.0100\n",
            "Epoch 22/40\n",
            "2/2 [==============================] - 11s 8s/step - loss: 0.4612 - accuracy: 0.7857 - val_loss: 0.6057 - val_accuracy: 0.7500 - lr: 0.0100\n",
            "Epoch 23/40\n",
            "2/2 [==============================] - 11s 5s/step - loss: 0.4344 - accuracy: 0.7653 - val_loss: 0.5972 - val_accuracy: 0.7500 - lr: 0.0100\n",
            "Epoch 24/40\n",
            "2/2 [==============================] - ETA: 0s - loss: 0.4436 - accuracy: 0.7959\n",
            "Epoch 24: ReduceLROnPlateau reducing learning rate to 0.0009999999776482583.\n",
            "2/2 [==============================] - 11s 8s/step - loss: 0.4436 - accuracy: 0.7959 - val_loss: 0.5973 - val_accuracy: 0.7250 - lr: 0.0100\n",
            "Epoch 25/40\n",
            "2/2 [==============================] - 11s 8s/step - loss: 0.4362 - accuracy: 0.7755 - val_loss: 0.6002 - val_accuracy: 0.7250 - lr: 1.0000e-03\n",
            "Epoch 26/40\n",
            "2/2 [==============================] - 11s 5s/step - loss: 0.4439 - accuracy: 0.8163 - val_loss: 0.6026 - val_accuracy: 0.7250 - lr: 1.0000e-03\n",
            "Epoch 27/40\n",
            "2/2 [==============================] - 11s 8s/step - loss: 0.4109 - accuracy: 0.7959 - val_loss: 0.6042 - val_accuracy: 0.7250 - lr: 1.0000e-03\n",
            "Epoch 28/40\n",
            "2/2 [==============================] - ETA: 0s - loss: 0.3833 - accuracy: 0.7959\n",
            "Epoch 28: ReduceLROnPlateau reducing learning rate to 9.999999310821295e-05.\n",
            "2/2 [==============================] - 11s 8s/step - loss: 0.3833 - accuracy: 0.7959 - val_loss: 0.6058 - val_accuracy: 0.7250 - lr: 1.0000e-03\n",
            "Epoch 28: early stopping\n"
          ]
        },
        {
          "output_type": "stream",
          "name": "stderr",
          "text": [
            "/usr/local/lib/python3.7/dist-packages/ipykernel_launcher.py:21: UserWarning: `Model.evaluate_generator` is deprecated and will be removed in a future version. Please use `Model.evaluate`, which supports generators.\n"
          ]
        },
        {
          "output_type": "stream",
          "name": "stdout",
          "text": [
            "1/1 [==============================] - 1s 1s/step - loss: 0.6058 - accuracy: 0.7250\n",
            "> 72.500\n"
          ]
        },
        {
          "output_type": "display_data",
          "data": {
            "text/plain": [
              "<Figure size 432x288 with 1 Axes>"
            ],
            "image/png": "[encoded data removed]"
          },
          "metadata": {
            "needs_background": "light"
          }
        },
        {
          "output_type": "display_data",
          "data": {
            "text/plain": [
              "<Figure size 432x288 with 1 Axes>"
            ],
            "image/png": "[encoded data removed]"
          },
          "metadata": {
            "needs_background": "light"
          }
        },
        {
          "output_type": "stream",
          "name": "stdout",
          "text": [
            "\n",
            "Val Accuracy on validation set = 0.72\n"
          ]
        },
        {
          "output_type": "display_data",
          "data": {
            "text/plain": [
              "<Figure size 432x432 with 2 Axes>"
            ],
            "image/png": "[encoded data removed]"
          },
          "metadata": {
            "needs_background": "light"
          }
        }
      ]
    }
  ]
}