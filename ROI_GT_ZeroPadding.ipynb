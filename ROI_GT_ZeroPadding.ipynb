{
  "nbformat": 4,
  "nbformat_minor": 0,
  "metadata": {
    "colab": {
      "name": "ROI_GT_ZeroPadding.ipynb",
      "provenance": [],
      "mount_file_id": "1Q1J8INOEeZlFRIehuF1Tp4UeUbR2_p2z",
      "authorship_tag": "ABX9TyOXK+GxsRYYnQscFMZD8gm5"
    },
    "kernelspec": {
      "name": "python3",
      "display_name": "Python 3"
    },
    "language_info": {
      "name": "python"
    }
  },
  "cells": [
    {
      "cell_type": "code",
      "execution_count": 3,
      "metadata": {
        "id": "QprEuAuvuw3d"
      },
      "outputs": [],
      "source": [
        "import cv2\n",
        "import numpy\n",
        "import imageio\n",
        "import matplotlib.pyplot as plt\n",
        "import numpy as np\n",
        "from PIL import Image\n",
        "import os\n"
      ]
    },
    {
      "cell_type": "code",
      "source": [
        "#obtener el width y height maximo de las imagenes a preparar\n",
        "def getMaxSize(folderUrl):\n",
        "  moreHeight = 0\n",
        "  moreWidht = 0\n",
        "  myListImages = os.listdir(folderUrl)\n",
        "  for cl in myListImages: \n",
        "    img = cv2.imread(folderUrl + cl)\n",
        "    old_image_height, old_image_width, channels = img.shape\n",
        "\n",
        "    if old_image_height > moreHeight:\n",
        "      moreHeight = old_image_height\n",
        "\n",
        "    if old_image_width > moreWidht:\n",
        "      moreWidht = old_image_width\n",
        "\n",
        "  return moreHeight, moreWidht"
      ],
      "metadata": {
        "id": "xGea0s3WvSG_"
      },
      "execution_count": 4,
      "outputs": []
    },
    {
      "cell_type": "code",
      "source": [
        "#añadir padding a la imagen original con las nuevas medidas\n",
        "def addPaddingToImage(imageName, new_height, new_width): \n",
        "  img = cv2.imread('/content/drive/MyDrive/Colab Notebooks/US_ROI/' + imageName) \n",
        "  delta_w = new_width - img.shape[0]\n",
        "  delta_h = new_height - img.shape[1]\n",
        "  top, bottom = delta_h // 2, delta_h - (delta_h // 2)  \n",
        "  left, right = delta_w // 2, delta_w - (delta_w // 2) \n",
        "  image= np.pad(img, ((top, bottom), (left, right), (0,0)), mode='constant')\n",
        "  \n",
        "  #Save image with padding\n",
        "  urlToSave = '/content/drive/MyDrive/Colab Notebooks/US_ROI_Prepared_ZeroPadding/Padding/Padding1/' + imageName  \n",
        "  cv2.imwrite(urlToSave, image)\n",
        "  #Initial Resize\n",
        "  img = Image.open(urlToSave)\n",
        "  imgResized = img.resize((500, 500))\n",
        "  urlToSave2 = '/content/drive/MyDrive/Colab Notebooks/US_ROI_Prepared_ZeroPadding/Padding/PaddingReady/' + imageName\n",
        "  imgResized.save(urlToSave2)  "
      ],
      "metadata": {
        "id": "Z8q4vsbUvgUZ"
      },
      "execution_count": 10,
      "outputs": []
    },
    {
      "cell_type": "code",
      "source": [
        "from PIL import Image\n",
        "\n",
        "#resize la imagen original con las nuevas medidas \n",
        "def resizeImage(imageName): \n",
        "  basewidth = 224\n",
        "  img = Image.open('/content/drive/MyDrive/Colab Notebooks/US_ROI_Prepared_ZeroPadding/Padding/PaddingReady/' + imageName )\n",
        "  wpercent = (basewidth / float(img.size[0]))\n",
        "  hsize = int((float(img.size[1]) * float(wpercent)))\n",
        "  img = img.resize((basewidth, hsize), Image.ANTIALIAS)\n",
        "  img.save('/content/drive/MyDrive/Colab Notebooks/US_ROI_Prepared_ZeroPadding/Resize/{}'.format(imageName))"
      ],
      "metadata": {
        "id": "8CE8RJ7cvlLK"
      },
      "execution_count": 11,
      "outputs": []
    },
    {
      "cell_type": "code",
      "source": [
        "def prepareROIImages():\n",
        "  new_height = 0\n",
        "  new_width = 0  \n",
        "\n",
        "  moreHeight, moreWidht = getMaxSize('/content/drive/MyDrive/Colab Notebooks/US_ROI/')\n",
        "\n",
        "  if moreHeight < 500 and moreWidht < 500:\n",
        "    new_height = 500\n",
        "    new_width = 500\n",
        "  \n",
        "  myListImages = os.listdir('/content/drive/MyDrive/Colab Notebooks/US_ROI/')\n",
        "  for cl in myListImages: \n",
        "    addPaddingToImage(cl, new_height, new_width)\n",
        "    resizeImage(cl)"
      ],
      "metadata": {
        "id": "J0Sx5Hbmvqk7"
      },
      "execution_count": 12,
      "outputs": []
    },
    {
      "cell_type": "code",
      "source": [
        "prepareROIImages()"
      ],
      "metadata": {
        "id": "Id6UsE0cxJoa"
      },
      "execution_count": 13,
      "outputs": []
    },
    {
      "cell_type": "code",
      "source": [
        "#Read csv\n",
        "import pandas as pd\n",
        "dataframe = pd.read_csv(r\"DatasetB-csv.csv\",sep=',',header=None)\n",
        "dataframe.head(10)\n",
        "#dataframe.shape[0]"
      ],
      "metadata": {
        "colab": {
          "base_uri": "https://localhost:8080/",
          "height": 363
        },
        "id": "1VVURrOs3ZQ8",
        "outputId": "67deb5dd-caa6-4edc-fbba-a8e856f74daa"
      },
      "execution_count": 47,
      "outputs": [
        {
          "output_type": "execute_result",
          "data": {
            "text/plain": [
              "             0       1\n",
              "0  ROI_0000001  Benign\n",
              "1  ROI_0000002  Benign\n",
              "2  ROI_0000003  Benign\n",
              "3  ROI_0000004  Benign\n",
              "4  ROI_0000005  Benign\n",
              "5  ROI_0000006  Benign\n",
              "6  ROI_0000007  Benign\n",
              "7  ROI_0000008  Benign\n",
              "8  ROI_0000009  Benign\n",
              "9  ROI_0000010  Benign"
            ],
            "text/html": [
              "\n",
              "  <div id=\"df-c1adc5f2-b686-4e8e-a155-7e7803df906e\">\n",
              "    <div class=\"colab-df-container\">\n",
              "      <div>\n",
              "<style scoped>\n",
              "    .dataframe tbody tr th:only-of-type {\n",
              "        vertical-align: middle;\n",
              "    }\n",
              "\n",
              "    .dataframe tbody tr th {\n",
              "        vertical-align: top;\n",
              "    }\n",
              "\n",
              "    .dataframe thead th {\n",
              "        text-align: right;\n",
              "    }\n",
              "</style>\n",
              "<table border=\"1\" class=\"dataframe\">\n",
              "  <thead>\n",
              "    <tr style=\"text-align: right;\">\n",
              "      <th></th>\n",
              "      <th>0</th>\n",
              "      <th>1</th>\n",
              "    </tr>\n",
              "  </thead>\n",
              "  <tbody>\n",
              "    <tr>\n",
              "      <th>0</th>\n",
              "      <td>ROI_0000001</td>\n",
              "      <td>Benign</td>\n",
              "    </tr>\n",
              "    <tr>\n",
              "      <th>1</th>\n",
              "      <td>ROI_0000002</td>\n",
              "      <td>Benign</td>\n",
              "    </tr>\n",
              "    <tr>\n",
              "      <th>2</th>\n",
              "      <td>ROI_0000003</td>\n",
              "      <td>Benign</td>\n",
              "    </tr>\n",
              "    <tr>\n",
              "      <th>3</th>\n",
              "      <td>ROI_0000004</td>\n",
              "      <td>Benign</td>\n",
              "    </tr>\n",
              "    <tr>\n",
              "      <th>4</th>\n",
              "      <td>ROI_0000005</td>\n",
              "      <td>Benign</td>\n",
              "    </tr>\n",
              "    <tr>\n",
              "      <th>5</th>\n",
              "      <td>ROI_0000006</td>\n",
              "      <td>Benign</td>\n",
              "    </tr>\n",
              "    <tr>\n",
              "      <th>6</th>\n",
              "      <td>ROI_0000007</td>\n",
              "      <td>Benign</td>\n",
              "    </tr>\n",
              "    <tr>\n",
              "      <th>7</th>\n",
              "      <td>ROI_0000008</td>\n",
              "      <td>Benign</td>\n",
              "    </tr>\n",
              "    <tr>\n",
              "      <th>8</th>\n",
              "      <td>ROI_0000009</td>\n",
              "      <td>Benign</td>\n",
              "    </tr>\n",
              "    <tr>\n",
              "      <th>9</th>\n",
              "      <td>ROI_0000010</td>\n",
              "      <td>Benign</td>\n",
              "    </tr>\n",
              "  </tbody>\n",
              "</table>\n",
              "</div>\n",
              "      <button class=\"colab-df-convert\" onclick=\"convertToInteractive('df-c1adc5f2-b686-4e8e-a155-7e7803df906e')\"\n",
              "              title=\"Convert this dataframe to an interactive table.\"\n",
              "              style=\"display:none;\">\n",
              "        \n",
              "  <svg xmlns=\"http://www.w3.org/2000/svg\" height=\"24px\"viewBox=\"0 0 24 24\"\n",
              "       width=\"24px\">\n",
              "    <path d=\"M0 0h24v24H0V0z\" fill=\"none\"/>\n",
              "    <path d=\"M18.56 5.44l.94 2.06.94-2.06 2.06-.94-2.06-.94-.94-2.06-.94 2.06-2.06.94zm-11 1L8.5 8.5l.94-2.06 2.06-.94-2.06-.94L8.5 2.5l-.94 2.06-2.06.94zm10 10l.94 2.06.94-2.06 2.06-.94-2.06-.94-.94-2.06-.94 2.06-2.06.94z\"/><path d=\"M17.41 7.96l-1.37-1.37c-.4-.4-.92-.59-1.43-.59-.52 0-1.04.2-1.43.59L10.3 9.45l-7.72 7.72c-.78.78-.78 2.05 0 2.83L4 21.41c.39.39.9.59 1.41.59.51 0 1.02-.2 1.41-.59l7.78-7.78 2.81-2.81c.8-.78.8-2.07 0-2.86zM5.41 20L4 18.59l7.72-7.72 1.47 1.35L5.41 20z\"/>\n",
              "  </svg>\n",
              "      </button>\n",
              "      \n",
              "  <style>\n",
              "    .colab-df-container {\n",
              "      display:flex;\n",
              "      flex-wrap:wrap;\n",
              "      gap: 12px;\n",
              "    }\n",
              "\n",
              "    .colab-df-convert {\n",
              "      background-color: #E8F0FE;\n",
              "      border: none;\n",
              "      border-radius: 50%;\n",
              "      cursor: pointer;\n",
              "      display: none;\n",
              "      fill: #1967D2;\n",
              "      height: 32px;\n",
              "      padding: 0 0 0 0;\n",
              "      width: 32px;\n",
              "    }\n",
              "\n",
              "    .colab-df-convert:hover {\n",
              "      background-color: #E2EBFA;\n",
              "      box-shadow: 0px 1px 2px rgba(60, 64, 67, 0.3), 0px 1px 3px 1px rgba(60, 64, 67, 0.15);\n",
              "      fill: #174EA6;\n",
              "    }\n",
              "\n",
              "    [theme=dark] .colab-df-convert {\n",
              "      background-color: #3B4455;\n",
              "      fill: #D2E3FC;\n",
              "    }\n",
              "\n",
              "    [theme=dark] .colab-df-convert:hover {\n",
              "      background-color: #434B5C;\n",
              "      box-shadow: 0px 1px 3px 1px rgba(0, 0, 0, 0.15);\n",
              "      filter: drop-shadow(0px 1px 2px rgba(0, 0, 0, 0.3));\n",
              "      fill: #FFFFFF;\n",
              "    }\n",
              "  </style>\n",
              "\n",
              "      <script>\n",
              "        const buttonEl =\n",
              "          document.querySelector('#df-c1adc5f2-b686-4e8e-a155-7e7803df906e button.colab-df-convert');\n",
              "        buttonEl.style.display =\n",
              "          google.colab.kernel.accessAllowed ? 'block' : 'none';\n",
              "\n",
              "        async function convertToInteractive(key) {\n",
              "          const element = document.querySelector('#df-c1adc5f2-b686-4e8e-a155-7e7803df906e');\n",
              "          const dataTable =\n",
              "            await google.colab.kernel.invokeFunction('convertToInteractive',\n",
              "                                                     [key], {});\n",
              "          if (!dataTable) return;\n",
              "\n",
              "          const docLinkHtml = 'Like what you see? Visit the ' +\n",
              "            '<a target=\"_blank\" href=https://colab.research.google.com/notebooks/data_table.ipynb>data table notebook</a>'\n",
              "            + ' to learn more about interactive tables.';\n",
              "          element.innerHTML = '';\n",
              "          dataTable['output_type'] = 'display_data';\n",
              "          await google.colab.output.renderOutput(dataTable, element);\n",
              "          const docLink = document.createElement('div');\n",
              "          docLink.innerHTML = docLinkHtml;\n",
              "          element.appendChild(docLink);\n",
              "        }\n",
              "      </script>\n",
              "    </div>\n",
              "  </div>\n",
              "  "
            ]
          },
          "metadata": {},
          "execution_count": 47
        }
      ]
    },
    {
      "cell_type": "code",
      "source": [
        "#DatasetByClass\n",
        "for index, row in dataframe.iterrows():\n",
        "  imageName = row[0]\n",
        "  classif = row[1]\n",
        "  imageName += '.png'\n",
        "\n",
        "  #Fix image names\n",
        "  if imageName == 'ROI_0000298.png':\n",
        "    imageName = 'ROI_000298.png'\n",
        "  if imageName == 'ROI_0000304.png':\n",
        "    imageName = 'ROI_000304.png'\n",
        "  \n",
        "\n",
        "  img = Image.open('/content/drive/MyDrive/Colab Notebooks/US_ROI_Prepared_ZeroPadding/Resize/' + imageName )\n",
        "\n",
        "  urlToSaveClass = '/content/drive/MyDrive/Colab Notebooks/US_ROI_Prepared_ZeroPadding/DatasetByClass'\n",
        "  if classif == 'Benign':\n",
        "    urlToSaveClass += '/Benign'  \n",
        "  elif classif == 'Malignant':\n",
        "    urlToSaveClass += '/Malignant' \n",
        "  \n",
        "  urlToSaveClass += \"/\" + imageName\n",
        "  #print(urlToSaveClass)\n",
        "  img.save(urlToSaveClass)\n",
        " \n",
        " "
      ],
      "metadata": {
        "id": "3tuM-KvP3TM1"
      },
      "execution_count": 48,
      "outputs": []
    },
    {
      "cell_type": "code",
      "source": [
        "#Split dataset\n",
        "myImagesMalignant = os.listdir('/content/drive/MyDrive/Colab Notebooks/US_ROI_Prepared_ZeroPadding/DatasetByClass/Malignant/')\n",
        "myImagesBenign = os.listdir('/content/drive/MyDrive/Colab Notebooks/US_ROI_Prepared_ZeroPadding/DatasetByClass/Benign/')\n",
        "print('malignant:')\n",
        "print(len(myImagesMalignant))\n",
        "print('benign:')\n",
        "print(len(myImagesBenign))"
      ],
      "metadata": {
        "colab": {
          "base_uri": "https://localhost:8080/"
        },
        "id": "Xi8UCcEDzEmb",
        "outputId": "8dccabeb-7186-42c4-92b5-d86400094ea4"
      },
      "execution_count": 51,
      "outputs": [
        {
          "output_type": "stream",
          "name": "stdout",
          "text": [
            "malignant:\n",
            "54\n",
            "benign:\n",
            "109\n"
          ]
        }
      ]
    }
  ]
}